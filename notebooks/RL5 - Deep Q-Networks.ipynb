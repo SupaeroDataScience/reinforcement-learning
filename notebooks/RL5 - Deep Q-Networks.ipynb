{
 "cells": [
  {
   "cell_type": "markdown",
   "metadata": {},
   "source": [
    "pip install gym[accept-rom-license]"
   ]
  },
  {
   "cell_type": "markdown",
   "metadata": {},
   "source": [
    "**Class 4: Deep Q Networks.**\n",
    "\n",
    "1. [Everything you need to know](#everything)\n",
    "1. [Reminder](#reminder)\n",
    "1. <a href=\"#sec1\">Environments</a>\n",
    "    1. <a href=\"#sec1.1\">Cartpole</a>\n",
    "    2. <a href=\"#sec1.2\">Cartpole swing-up</a>\n",
    "    3. <a href=\"#sec1.3\">Pong</a>\n",
    "2. <a href=\"#sec2\">Value Iteration as a sequence of Supervized Learning problems</a>\n",
    "3. <a href=\"#sec3\">Experience Replay</a>\n",
    "4. <a href=\"#sec4\">A deep Q-network</a>\n",
    "5. <a href=\"#sec5\">Making DQN more efficient</a>\n",
    "    1. <a href=\"#sec5.1\">Changing the optimizer\n",
    "    2. <a href=\"#sec5.2\">Several gradient steps\n",
    "    3. <a href=\"#sec5.3\">Target network</a>\n",
    "    4. <a href=\"#sec5.4\">Error clipping</a>\n",
    "6. <a href=\"#sec6\">Metrics</a>\n",
    "7. <a href=\"#sec7\">DQN on image-based tasks</a>\n",
    "8. <a href=\"#sec8\">Going further</a>\n",
    "9. [Challenge](#challenge)\n",
    "    1. [Bicycle](#bicycle)\n",
    "    2. [Structured Treatment Interruptions](#sti)\n",
    "    3. [Your turn to play](#turn)"
   ]
  },
  {
   "cell_type": "markdown",
   "metadata": {},
   "source": [
    "In the previous classes we saw that one could replace the model-based value iteration process by an approximate value iteration one. When the approximation is done by performing stochastic approximation, we obtain the $Q$ learning algorithm. We saw it was straightforward to extend this to use experience replay memories and batch stochastic gradient descent. In this class, we combine the stochastic gradient descent approach with replay memories and represent $Q$ as a neural network. This yields the Deep Q-Networks algorithm.\n",
    "\n",
    "There are few new concepts in this class compared to previous ones. Mainly, what we do is bring neural networks into the framework we have previously built. Therefore, this class is aimed at more practice. For this purpose, we start by introducing a set of [environments](#sec1) to illustrate further developments. Then we will start from Value Iteration and repeat the thought process of the previous classes, introduce [stochastic gradient descent](#sec2), [experience replay](#sec3) and reach the [DQN algorithm](#sec4). The end of the class is an [open challenge](#challenge) on several difficult benchmarks.\n",
    "\n",
    "<div class=\"alert alert-warning\">\n",
    "\n",
    "**Prerequisites:**\n",
    "- Stochastic Approximation for Approximate Value Iteration\n",
    "- Deep Learning\n",
    "<div>"
   ]
  },
  {
   "cell_type": "markdown",
   "metadata": {},
   "source": [
    "Let's start with this quote:\n",
    "\n",
    "> The idea that we learn by interacting with our environment is probably the first to occur to us when we think about the nature of learning. When an infant plays, waves its arms, or looks about, it has no explicit teacher, but it does have a direct sensorimotor connection to its environment. Exercising this connection produces a wealth of information about cause and effect, about the consequences of actions, and about what to do in order to achieve goals. Throughout our lives, such interactions are undoubtedly a major source of knowledge about our environment and ourselves. Whether we are learning to drive a car or to hold a conversation, we are acutely aware of how our environment responds to what we do, and we seek to influence what happens through our behavior. Learning from interaction is a foundational idea underlying nearly all theories of learning and intelligence. (Richard S. Sutton)"
   ]
  },
  {
   "cell_type": "markdown",
   "metadata": {},
   "source": [
    "# Everything you need to know\n",
    "\n",
    "Everything you should remember after this session.<br>\n",
    "<br>\n",
    "<div class=\"alert alert-success\">\n",
    "\n",
    "- Deep Q-Networks is an approximate value iteration algorithm that uses experience replay and stochastic gradient descent to learn $Q^*$ as a neural network. The DQN itself is the neural network.\n",
    "- DQN pseudo-code\n",
    "         state = init()\n",
    "         loop:\n",
    "            action = greedy_action(DQN) or random_action()\n",
    "            new_state, reward = step(state, action)\n",
    "            replay_memory.add(state, action, reward, new_state)\n",
    "            minibatch = replay_memory.sample(minibatch_size)\n",
    "            X_train = Y_train = []\n",
    "            for (s,a,r,s') in minibatch:\n",
    "                Q  = DQN.predict(s)\n",
    "                Q' = DQN.predict(s')\n",
    "                if non-terminal(s'): \n",
    "                    update = r + gamma * max(Q')    \n",
    "                else:  \n",
    "                    update = r\n",
    "                Q[a] = update\n",
    "                X_train.add(s)\n",
    "                Y_train.add(Q)\n",
    "            DQN.train_one_step(X_train,Y_train)\n",
    "            state = new_state\n",
    "- The pseudo-code above can be improved by introducing a second network $Q^-$ called *target network*, that is used to compute `update` in the pseudo-code above. Every $C$ steps $Q^-$ is replaced by the learned network.\n",
    "- Common improvements to DQN involve using a Huber loss and tuning the optimizer.\n",
    "</div>"
   ]
  },
  {
   "cell_type": "markdown",
   "metadata": {},
   "source": [
    "# Reminder\n",
    "\n",
    "- Value Iteration builds the sequence $Q_{n+1} = T^* Q_n$ that converges to $Q^*$\n",
    "- Given a set of samples $\\{(s,a,r,s')\\}$, one can perform stochastic gradient descent on the loss $L_n(Q) = \\|Q - T^* Q_n \\|_2$ and thus approximate the sequence of value functions from value iteration."
   ]
  },
  {
   "cell_type": "markdown",
   "metadata": {},
   "source": [
    "# <a id=\"sec1\"></a> Environments\n",
    "\n",
    "In this session, we will work with three different environments:\n",
    "- CartPole\n",
    "- A modified version of CartPole\n",
    "- Pong"
   ]
  },
  {
   "cell_type": "code",
   "execution_count": 1,
   "metadata": {},
   "outputs": [],
   "source": [
    "#from gym import logger\n",
    "import numpy as np\n",
    "%matplotlib inline\n",
    "import matplotlib.pyplot as plt\n",
    "#logger.set_level(gym.logger.DISABLED)"
   ]
  },
  {
   "cell_type": "markdown",
   "metadata": {},
   "source": [
    "## <a id=sec1.1></a>CartPole"
   ]
  },
  {
   "cell_type": "code",
   "execution_count": 2,
   "metadata": {},
   "outputs": [],
   "source": [
    "import gym\n",
    "cartpole = gym.make('CartPole-v1')"
   ]
  },
  {
   "cell_type": "markdown",
   "metadata": {},
   "source": [
    "From the [OpenAI Gym website](https://gym.openai.com/envs/CartPole-v0/)\n",
    "\n",
    "> A pole is attached by an un-actuated joint to a cart, which moves along a frictionless track. The system is controlled by applying a force of +1 or -1 to the cart. The pendulum starts upright, and the goal is to prevent it from falling over. A reward of +1 is provided for every timestep that the pole remains upright. The episode ends when the pole is more than 15 degrees from vertical, or the cart moves more than 2.4 units from the center."
   ]
  },
  {
   "cell_type": "markdown",
   "metadata": {},
   "source": [
    "Beware that, as most Gym environments, CartPole has a maximum number of steps before necessarily returning `done=True`."
   ]
  },
  {
   "cell_type": "code",
   "execution_count": 3,
   "metadata": {},
   "outputs": [
    {
     "data": {
      "text/plain": [
       "500"
      ]
     },
     "execution_count": 3,
     "metadata": {},
     "output_type": "execute_result"
    }
   ],
   "source": [
    "cartpole._max_episode_steps"
   ]
  },
  {
   "cell_type": "markdown",
   "metadata": {},
   "source": [
    "The cartpole is represented by a state $s = (x, \\dot{x}, \\theta, \\dot{\\theta})$ with :\n",
    "  - $x$ the position of the cartpole along the x-axis\n",
    "  - $\\theta$ the angle of the pole"
   ]
  },
  {
   "cell_type": "code",
   "execution_count": 4,
   "metadata": {},
   "outputs": [
    {
     "name": "stdout",
     "output_type": "stream",
     "text": [
      "Discrete(2)\n",
<<<<<<< Updated upstream
      "Box(-3.4028234663852886e+38, 3.4028234663852886e+38, (4,), float32)\n",
=======
      "Box([-4.8000002e+00 -3.4028235e+38 -4.1887903e-01 -3.4028235e+38], [4.8000002e+00 3.4028235e+38 4.1887903e-01 3.4028235e+38], (4,), float32)\n",
>>>>>>> Stashed changes
      "{'render.modes': ['human', 'rgb_array'], 'video.frames_per_second': 50}\n"
     ]
    }
   ],
   "source": [
    "print(cartpole.action_space)\n",
    "print(cartpole.observation_space)\n",
    "print(cartpole.env.metadata)"
   ]
  },
  {
   "cell_type": "code",
<<<<<<< Updated upstream
   "execution_count": 5,
=======
   "execution_count": 7,
>>>>>>> Stashed changes
   "metadata": {},
   "outputs": [
    {
     "name": "stdout",
     "output_type": "stream",
     "text": [
<<<<<<< Updated upstream
      "11\n"
=======
      "18\n"
>>>>>>> Stashed changes
     ]
    }
   ],
   "source": [
    "import time\n",
    "import numpy as np\n",
    "\n",
    "x = cartpole.reset()\n",
    "cartpole.render()\n",
    "for i in range(2000):\n",
    "    _, _, d, _ = cartpole.step(np.random.randint(2))\n",
    "    cartpole.render()\n",
    "    if d:\n",
    "        print(i)\n",
    "        break\n",
    "    time.sleep(10*cartpole.tau) # not actually real-time, just for readability\n",
    "\n",
    "cartpole.close()"
   ]
  },
  {
   "cell_type": "markdown",
   "metadata": {},
   "source": [
    "## <a id=sec1.2></a>CartPole Swing-up\n",
    "\n",
    "The idea here is to keep the same environment, but instead of learning how to stabilize it around the unstable equilibrium point, we'd like to learn to swing it up. Here are the changes:\n",
    "- `reset` now puts the pole pointing down. The initial state is $(0,0,\\pi,0)$ plus a vector of four uniformly random values in [-0.05,0.05].\n",
    "- `step` now returns `done=True` when the cart leaves the $x\\in [-2.4,2.4]$ interval or when the pole swings faster than $4\\pi$ radians per second.\n",
    "- the reward is still +1 for keeping the pole within 12 degrees of the vertical, it is 0 for all other time steps and -10 for swinging too fast or exiting the screen."
   ]
  },
  {
   "cell_type": "code",
<<<<<<< Updated upstream
   "execution_count": 6,
=======
   "execution_count": 8,
>>>>>>> Stashed changes
   "metadata": {},
   "outputs": [],
   "source": [
    "from environments.swingup import CartPoleSwingUp\n",
    "swingup = CartPoleSwingUp()"
   ]
  },
  {
   "cell_type": "code",
<<<<<<< Updated upstream
   "execution_count": 7,
=======
   "execution_count": 11,
>>>>>>> Stashed changes
   "metadata": {
    "scrolled": false
   },
   "outputs": [
    {
     "name": "stdout",
     "output_type": "stream",
     "text": [
<<<<<<< Updated upstream
      "161\n"
=======
      "70\n"
>>>>>>> Stashed changes
     ]
    }
   ],
   "source": [
    "import numpy as np\n",
    "\n",
    "x = swingup.reset()\n",
    "swingup.render()\n",
    "\n",
    "for i in range(1000):\n",
    "    _, _, d, _ = swingup.step(np.random.randint(2))\n",
    "    swingup.render()\n",
    "    if d:\n",
    "        print(i)\n",
    "        break\n",
    "\n",
    "swingup.close()"
   ]
  },
  {
   "cell_type": "markdown",
   "metadata": {},
   "source": [
    "## <a id=sec1.3></a>Pong\n",
    "\n",
    "Let's build an agent that learns to play Pong, one of the [Atari games](https://github.com/openai/gym/blob/master/gym/envs/atari/atari_env.py) in Gym (originally in the [Arcade Learning Environment](https://github.com/mgbellemare/Arcade-Learning-Environment)). You might want to try different games later on (like the popular Breakout game for instance)."
   ]
  },
  {
   "cell_type": "code",
   "execution_count": 12,
   "metadata": {},
   "outputs": [],
   "source": [
    "import gym\n",
    "pong = gym.make('Pong-v4')"
   ]
  },
  {
   "cell_type": "markdown",
   "metadata": {},
   "source": [
    "Here is the environment's description.\n",
    "> Maximize your score in the Atari 2600 game Pong. In this environment, the observation is an RGB image of the screen, which is an array of shape (210, 160, 3). Each action is repeatedly performed for a duration of k frames, where k is uniformly sampled from $\\{2, 3, 4\\}$."
   ]
  },
  {
   "cell_type": "code",
   "execution_count": 13,
   "metadata": {},
   "outputs": [
    {
     "name": "stdout",
     "output_type": "stream",
     "text": [
      "Box([[[0 0 0]\n",
      "  [0 0 0]\n",
      "  [0 0 0]\n",
      "  ...\n",
      "  [0 0 0]\n",
      "  [0 0 0]\n",
      "  [0 0 0]]\n",
      "\n",
      " [[0 0 0]\n",
      "  [0 0 0]\n",
      "  [0 0 0]\n",
      "  ...\n",
      "  [0 0 0]\n",
      "  [0 0 0]\n",
      "  [0 0 0]]\n",
      "\n",
      " [[0 0 0]\n",
      "  [0 0 0]\n",
      "  [0 0 0]\n",
      "  ...\n",
      "  [0 0 0]\n",
      "  [0 0 0]\n",
      "  [0 0 0]]\n",
      "\n",
      " ...\n",
      "\n",
      " [[0 0 0]\n",
      "  [0 0 0]\n",
      "  [0 0 0]\n",
      "  ...\n",
      "  [0 0 0]\n",
      "  [0 0 0]\n",
      "  [0 0 0]]\n",
      "\n",
      " [[0 0 0]\n",
      "  [0 0 0]\n",
      "  [0 0 0]\n",
      "  ...\n",
      "  [0 0 0]\n",
      "  [0 0 0]\n",
      "  [0 0 0]]\n",
      "\n",
      " [[0 0 0]\n",
      "  [0 0 0]\n",
      "  [0 0 0]\n",
      "  ...\n",
      "  [0 0 0]\n",
      "  [0 0 0]\n",
      "  [0 0 0]]], [[[255 255 255]\n",
      "  [255 255 255]\n",
      "  [255 255 255]\n",
      "  ...\n",
      "  [255 255 255]\n",
      "  [255 255 255]\n",
      "  [255 255 255]]\n",
      "\n",
      " [[255 255 255]\n",
      "  [255 255 255]\n",
      "  [255 255 255]\n",
      "  ...\n",
      "  [255 255 255]\n",
      "  [255 255 255]\n",
      "  [255 255 255]]\n",
      "\n",
      " [[255 255 255]\n",
      "  [255 255 255]\n",
      "  [255 255 255]\n",
      "  ...\n",
      "  [255 255 255]\n",
      "  [255 255 255]\n",
      "  [255 255 255]]\n",
      "\n",
      " ...\n",
      "\n",
      " [[255 255 255]\n",
      "  [255 255 255]\n",
      "  [255 255 255]\n",
      "  ...\n",
      "  [255 255 255]\n",
      "  [255 255 255]\n",
      "  [255 255 255]]\n",
      "\n",
      " [[255 255 255]\n",
      "  [255 255 255]\n",
      "  [255 255 255]\n",
      "  ...\n",
      "  [255 255 255]\n",
      "  [255 255 255]\n",
      "  [255 255 255]]\n",
      "\n",
      " [[255 255 255]\n",
      "  [255 255 255]\n",
      "  [255 255 255]\n",
      "  ...\n",
      "  [255 255 255]\n",
      "  [255 255 255]\n",
      "  [255 255 255]]], (210, 160, 3), uint8)\n",
      "(210, 160, 3)\n",
      "0\n",
      "255\n",
      "Discrete(6)\n"
     ]
    }
   ],
   "source": [
    "import numpy as np\n",
    "print(pong.observation_space)\n",
    "print(pong.observation_space.shape)\n",
    "print(np.min(pong.observation_space.low))\n",
    "print(np.max(pong.observation_space.high))\n",
    "print(pong.action_space)\n",
    "#help(env.observation_space)"
   ]
  },
  {
   "cell_type": "code",
   "execution_count": 14,
   "metadata": {},
   "outputs": [
    {
     "data": {
      "image/png": "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\n",
      "text/plain": [
       "<Figure size 432x288 with 1 Axes>"
      ]
     },
     "metadata": {
      "needs_background": "light"
     },
     "output_type": "display_data"
    }
   ],
   "source": [
    "%matplotlib inline\n",
    "import matplotlib.pyplot as plt\n",
    "x = pong.reset()\n",
    "plt.imshow(x)\n",
    "plt.show()"
   ]
  },
  {
   "cell_type": "markdown",
   "metadata": {},
   "source": [
    "<div class=\"alert alert-warning\">\n",
    "\n",
    "**Exercise:** What is the number of possible states? Why is this not an MDP? What would one need to turn this back into an MDP?\n",
    "</div>"
   ]
  },
  {
   "cell_type": "markdown",
   "metadata": {},
   "source": [
    "<div class=\"alert alert-danger\">\n",
    "    <a href=\"#Pong-theory\" data-toggle=\"collapse\"><b>Answers:</b></a><br>\n",
    "<div id=\"Pong-theory\" class=\"collapse\">\n",
    "\n",
    "One frame is a $210\\times 160$ RGB image with a 256 color palette, so the set of all possible frames has size $256^{210 \\times 160 \\times 3} \\sim 10^{242579}$. That's a little too many for an efficient enumeration. Of course, most of the possible images will never occur in a Breakout game and the true state space is actually a much smaller subset of the full set of possible images. Nevertheless, unless we provide a large engineering effort in describing the state space with few variables (which would be contradictory of our goal of a \"human-level\" AI) we will need to automatically discover some structure in the state sampled data.\n",
    "\n",
    "This is not an MDP because the transition dynamics do not respect Markov's property. The probability of transitioning from $s_t$ to $s_{t+1}$ is *not* independent of previous states. The problem here is that a single frame of the game does not reflect the velocity of the ball.\n",
    "\n",
    "To recover Markov's property one could simply stack a few frames together in the state space.\n",
    "</div>\n",
    "</div>"
   ]
  },
  {
   "cell_type": "markdown",
   "metadata": {},
   "source": [
    "There are 18 buttons on the Atari controller. However not all games use all buttons. Our interface to Pong specifies 6 possible actions:\n",
    "- 0 NOOP (no operation)\n",
    "- 1 FIRE (press fire button, doesn't do anything in Pong)\n",
    "- 2 RIGHT (actually moves the paddle up in Pong)\n",
    "- 3 LEFT (actually moves the paddle left in Pong)\n",
    "- 4 UP (moves the paddle upwards)\n",
    "- 5 DOWN (moves the paddle downwards)\n",
    "\n",
    "The available actions in Pong go up to the 6th action for naming consistency (UP and DOWN), but the four first actions are not really useful.\n",
    "\n",
    "Also, for an unknown reason, the game does not start until the 20th frame (but always starts automatically, pressing FIRE does not change anything).\n",
    "\n",
    "The frame rate is 60Hz.\n",
    "\n",
    "To avoid confusion between the 6 actions allowed by Gym, let's build a wrapper around our environment, with only 2 possible actions (\"0\" for UP and \"1\" for DOWN) and a downscaled observation space. Unless you're curious and want to dig in the code, you can simply run the following cells and just use the resulting environment."
   ]
  },
  {
   "cell_type": "code",
   "execution_count": 15,
   "metadata": {},
   "outputs": [],
   "source": [
    "from environments.pongwrapper import PongWrapper"
   ]
  },
  {
   "cell_type": "code",
   "execution_count": 16,
   "metadata": {},
   "outputs": [],
   "source": [
    "pong = PongWrapper(noop_max=0,\n",
    "                   frame_skip=4,\n",
    "                   terminal_on_life_loss=True,\n",
    "                   grayscale_obs=True,\n",
    "                   scale_obs=True)"
   ]
  },
  {
   "cell_type": "code",
   "execution_count": 17,
   "metadata": {
    "scrolled": true
   },
   "outputs": [
    {
     "name": "stderr",
     "output_type": "stream",
     "text": [
      "/home/disc/e.rachelson/anaconda3/lib/python3.8/site-packages/gym/envs/atari/environment.py:255: UserWarning: \u001b[33mWARN: We strongly suggest supplying `render_mode` when constructing your environment, e.g., gym.make(ID, render_mode='human'). Using `render_mode` provides access to proper scaling, audio support, and proper framerates.\u001b[0m\n",
      "  logger.warn(\n"
     ]
    },
    {
     "name": "stdout",
     "output_type": "stream",
     "text": [
      "shape: (84, 84), min = 0.34117648, max = 0.91764706, dtype = float32\n"
     ]
    },
    {
     "data": {
      "image/png": "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\n",
      "text/plain": [
       "<Figure size 432x288 with 1 Axes>"
      ]
     },
     "metadata": {
      "needs_background": "light"
     },
     "output_type": "display_data"
    }
   ],
   "source": [
    "# Trying a random agent in Pong\n",
    "import time\n",
    "import numpy as np\n",
    "%matplotlib inline\n",
    "import matplotlib.pyplot as plt\n",
    "\n",
    "pong.reset()\n",
    "pong.render()\n",
    "for i in range(60):\n",
    "    a = np.random.randint(2)\n",
    "    x, r, _, _ = pong.step(a)\n",
    "    pong.render()\n",
    "    #print('\\r', \"reward\", r, end=\"\")\n",
    "    time.sleep(0.1)\n",
    "    \n",
    "pong.close()\n",
    "print(\"shape: \", x.shape, \", min = \", x.min(), \", max = \", x.max(), \", dtype = \", x.dtype, sep='')\n",
    "plt.imshow(x, cmap='gray');"
   ]
  },
  {
   "cell_type": "markdown",
   "metadata": {},
   "source": [
    "# <a id=sec2></a>Value Iteration as a sequence of Supervized Learning problems\n",
    "\n",
    "Recall the Value Iteration update: $Q_{n+1} = T^*Q_n$.\n",
    "\n",
    "<div class=\"alert alert-warning\">\n",
    "\n",
    "**Exercise:**  \n",
    "Suppose $Q_{n+1}$ is a parametric function $Q(s,a;\\theta_{n+1})$ with parameters $\\theta_{n+1}$. We want to approximate $T^*Q_n$ with $Q(s,a;\\theta_{n+1})$. Write the loss function minimized for this regression problem.\n",
    "</div>"
   ]
  },
  {
   "cell_type": "markdown",
   "metadata": {},
   "source": [
    "<div class=\"alert alert-danger\">\n",
    "    <a href=\"#ValueIteration\" data-toggle=\"collapse\"><b>Answers:</b></a><br>\n",
    "<div id=\"ValueIteration\" class=\"collapse\">\n",
    "\n",
    "Let's start over from the beginning. We want to find:\n",
    "$$\\pi^*(s) = \\arg\\max_{\\pi} \\mathbb{E}_{\\left(r_t\\right)_{t\\in \\mathbb{N}}} \\left[ \\sum_{t=0}^\\infty \\gamma^t r_t \\ \\Big| \\ s, \\pi \\right], \\ \\forall s\\in S.$$\n",
    "\n",
    "We have seen this was equivalent to finding the optimal value function $Q^*$:\n",
    "$$Q^*(s,a) = \\max_{\\pi} \\mathbb{E}_{\\left(r_t\\right)_{t\\in \\mathbb{N}}} \\left[ \\sum_{t=0}^\\infty \\gamma^t r_t \\ \\Big| \\  s,a, \\pi \\right], \\ \\forall (s,a) \\in S\\times A.$$\n",
    "\n",
    "And we have established that $Q^*$ was the only solution to Bellman's optimality equation:\n",
    "$$Q(s,a) = \\mathbb{E}_{s' \\sim p(\\cdot|s,a)} \\left[r(s,a,s') + \\gamma \\max_{a'} Q(s',a')\\right].$$\n",
    "\n",
    "By writing $T^*$ Bellman's optimality operator, we have, by definition:\n",
    "$$(T^*Q)(s,a) = \\mathbb{E}_{s' \\sim p(\\cdot|s,a)} \\left[r(s,a,s') + \\gamma \\max_{a'} Q(s',a')\\right].$$\n",
    "\n",
    "And thus, $Q^*$ is the only solution to $Q=T^*Q$.\n",
    "\n",
    "It appears $T^*$ is a contraction mapping on the $\\mathcal{F}(S\\times A,\\mathbb{R})$ space. Value Iteration exploits this property to build the sequence $Q_{n+1} = T^*Q_n$ which converges to $Q^*$.\n",
    "\n",
    "Let's now suppose that $Q_n$ is a function approximator, whose parameters are $\\theta_n$. We shall write $Q_n(s,a) = Q(s,a;\\theta_n)$. Then building $\\theta_{n+1}$ knowing $\\theta_n$ is the regression problem that minimizes the loss:\n",
    "\\begin{gather}\n",
    "L_n(\\theta) = \\left\\| y_n(s,a) - Q(s,a;\\theta) \\right\\|,\\\\\n",
    "\\textrm{with } y_n(s,a) = \\mathbb{E}_{s' \\sim p(\\cdot|s,a)} \\left[r(s,a,s') + \\gamma \\max_{a'} Q(s',a';\\theta_{n})\\right].\n",
    "\\end{gather}\n",
    "\n",
    "If this loss can be optimized and goes to zero, then we have found the true $Q_{n+1}$. If not, then we have found an approximation of it in the norm used to define $L_n$.\n",
    "\n",
    "</div>\n",
    "</div>"
   ]
  },
  {
   "cell_type": "markdown",
   "metadata": {},
   "source": [
    "<div class=\"alert alert-warning\">\n",
    "\n",
    "**Exercise:**  \n",
    "Use the L2 norm in the loss of the regression problem above, then write the gradient of the loss with respect to the regressor's parameters. Use this to introduce a stochastic gradient descent method to find $\\theta_{n+1}$.\n",
    "</div>"
   ]
  },
  {
   "cell_type": "markdown",
   "metadata": {},
   "source": [
    "<div class=\"alert alert-danger\">\n",
    "    <a href=\"#VILoss\" data-toggle=\"collapse\"><b>Answers:</b></a><br>\n",
    "<div id=\"VILoss\" class=\"collapse\">\n",
    "\n",
    "Our loss becomes:\n",
    "\\begin{gather}\n",
    "L_n(\\theta) = \\frac{1}{2} \\mathbb{E}_{(s,a) \\sim \\rho(\\cdot)}\\left[ \\big( y_n(s,a) - Q(s,a;\\theta) \\big)^2 \\right],\\\\\n",
    "\\textrm{with } y_n(s,a) = \\mathbb{E}_{s' \\sim p(\\cdot|s,a)} \\left[r(s,a,s') + \\gamma \\max_{a'} Q(s',a';\\theta_{n})\\right].\n",
    "\\end{gather}\n",
    "\n",
    "In the expression above, $\\rho$ is a distribution over the state-action space. Often, it is considered to be the behavior distribution, that is the distribution of samples under the current behavior policy, like $\\epsilon$-greedy. Note that this choice is debatable.\n",
    "\n",
    "So the gradient of this loss is:\n",
    "\\begin{gather}\n",
    "\\nabla_\\theta L_n(\\theta) = \\mathbb{E}_{(s,a) \\sim \\rho(\\cdot)}\\left[ \\big( y_n(s,a) - Q(s,a;\\theta) \\big) \\nabla_\\theta Q(s,a;\\theta) \\right]\\\\\n",
    "\\textrm{with } y_n(s,a) = \\mathbb{E}_{s' \\sim p(\\cdot|s,a)} \\left[r(s,a,s') + \\gamma \\max_{a'} Q(s',a';\\theta_{n})\\right].\n",
    "\\end{gather}\n",
    "\n",
    "And when we wrap all this together:\n",
    "$$\\nabla_\\theta L_n(\\theta) = \\mathbb{E}_{(s,a) \\sim \\rho(\\cdot)}\\left[ \\left( \\mathbb{E}_{s' \\sim p(\\cdot|s,a)} \\left[r(s,a,s') + \\gamma \\max_{a'} Q(s',a';\\theta_{n})\\right] - Q(s,a;\\theta) \\right) \\nabla_\\theta Q(s,a;\\theta) \\right]$$\n",
    "\n",
    "$$\\nabla_\\theta L_n(\\theta) = \\mathbb{E}_{\\substack{(s,a) \\sim \\rho(\\cdot)\\\\ s' \\sim p(\\cdot|s,a)}}\\left[ \\left( r(s,a,s') + \\gamma \\max_{a'} Q(s',a';\\theta_{n}) - Q(s,a;\\theta) \\right) \\nabla_\\theta Q(s,a;\\theta) \\right]$$\n",
    "\n",
    "We can build a Monte Carlo estimate of this gradient, given a mini-batch of independently and identically drawn samples $\\left\\{\\left(s_i,a_i,r_i,s'_i\\right)\\right\\}_{i\\in [1,B]}$, with $(s,a) \\sim \\rho(\\cdot)$ and $s' \\sim p(\\cdot | s,a)$:\n",
    "$$\\nabla_\\theta L_n(\\theta) \\approx d_n(\\theta) = \\sum_{i=1}^B \\left[ \\left( r_i + \\gamma \\max_{a'} Q(s_i',a';\\theta_{n}) - Q(s_i,a_i;\\theta) \\right) \\nabla_\\theta Q(s_i,a_i;\\theta) \\right].$$\n",
    "\n",
    "The stochastic gradient descent procedure builds a sequence of parameter values $\\theta_k$ such that:\n",
    "$$\\theta_{k+1} \\leftarrow \\theta_{k} - \\alpha d_n(\\theta_{k})$$\n",
    "\n",
    "By repeating such gradient steps, one progressively minimizes $L_n(\\theta)$ and finds $\\theta_{n+1}$.\n",
    "\n",
    "</div>\n",
    "</div>"
   ]
  },
  {
   "cell_type": "markdown",
   "metadata": {},
   "source": [
    "**Important remark:**  \n",
    "\n",
    "In the update above, if the mini-batch contains a single element, the 1-sample update is precisely that of Q-learning! Then, in Q-learning, the new loss $L_{n+1}$ is defined and the process is repeated. Consequently, there is a new loss function at each time step.\n",
    "\n",
    "<div class=\"alert alert-warning\">\n",
    "\n",
    "**Exercise:** can you spot the (subtle but essential) difference with Q-learning?\n",
    "</div>"
   ]
  },
  {
   "cell_type": "markdown",
   "metadata": {},
   "source": [
    "<div class=\"alert alert-danger\">\n",
    "    <a href=\"#DifferenceQL\" data-toggle=\"collapse\"><b>Answers:</b></a><br>\n",
    "<div id=\"DifferenceQL\" class=\"collapse\">\n",
    "\n",
    "Recall Q-learning. The update was indeed the same, except that at any time step the mini-batch's single element was not sampled independently from the previous minibatch! Indeed, $s'$ from the previous time step becomes $s$ for the current time step. So the successive mini-batches' elements are not drawn iid.\n",
    "\n",
    "That's a key difference that questions the foundation of Q-learning in itself.\n",
    "</div>\n",
    "</div>"
   ]
  },
  {
   "cell_type": "markdown",
   "metadata": {},
   "source": [
    "# <a id=sec3></a>Experience Replay\n",
    "\n",
    "To recover the independence assumption between samples, we can introduce the mechanism of [*Experience Replay*](http://www.incompleteideas.net/lin-92.pdf) by storing past samples into a *Replay Memory*. When samples a required for a mini-batch gradient update, the samples are collected uniformly from the replay memory, thus mimicking an (almost) independent draw according to $\\rho(\\cdot)$."
   ]
  },
  {
   "cell_type": "markdown",
   "metadata": {},
   "source": [
    "<div class=\"alert alert-warning\">\n",
    "    \n",
    "**Exercise:**  \n",
    "Design a class for the replay memory of the cart-pole example(s). Limit the size of this memory (via a FIFO mechanism) to $10^6$ samples (adapt this number to your computer's RAM). Test it by running a random policy for $2\\cdot 10^6$ time steps.\n",
    "</div>"
   ]
  },
  {
   "cell_type": "code",
   "execution_count": 19,
   "metadata": {},
   "outputs": [
    {
     "name": "stderr",
     "output_type": "stream",
     "text": [
      "100%|██████████| 2000000/2000000 [00:46<00:00, 43474.10it/s]\n",
      " 20%|█▉        | 1970/10000 [00:00<00:00, 19691.76it/s]"
     ]
    },
    {
     "name": "stdout",
     "output_type": "stream",
     "text": [
      "1000000\n"
     ]
    },
    {
     "name": "stderr",
     "output_type": "stream",
     "text": [
      "100%|██████████| 10000/10000 [00:00<00:00, 19481.74it/s]"
     ]
    },
    {
     "name": "stdout",
     "output_type": "stream",
     "text": [
      "[(array([ 0.0039127 , -0.03493185, -0.02083833,  0.04614576], dtype=float32), 0, 1.0, array([ 0.00321407, -0.22974889, -0.01991541,  0.33218184], dtype=float32), False), (array([ 0.01810677,  0.3414302 , -0.0263343 , -0.5818058 ], dtype=float32), 0, 1.0, array([ 0.02493538,  0.14668693, -0.03797041, -0.29753357], dtype=float32), False)]\n"
     ]
    },
    {
     "name": "stderr",
     "output_type": "stream",
     "text": [
      "\n"
     ]
    }
   ],
   "source": [
    "# %load solutions/RL5_exercise1.py\n",
    "### WRITE YOUR CODE HERE\n",
    "# If you get stuck, uncomment the line above to load a correction in this cell (then you can execute this code).\n",
    "\n",
    "# Replay buffer class\n",
    "import random\n",
    "\n",
    "class ReplayBuffer:\n",
    "    def __init__(self, capacity):\n",
    "        self.capacity = capacity # capacity of the buffer\n",
    "        self.data = []\n",
    "        self.index = 0 # index of the next cell to be filled\n",
    "\n",
    "    def append(self, s, a, r, s_, d):\n",
    "        if len(self.data) < self.capacity:\n",
    "            self.data.append(None)\n",
    "        self.data[self.index] = (s, a, r, s_, d)\n",
    "        self.index = (self.index + 1) % self.capacity\n",
    "\n",
    "    def sample(self, batch_size):\n",
    "        return random.sample(self.data, batch_size)\n",
    "\n",
    "    def __len__(self):\n",
    "        return len(self.data)\n",
    "\n",
    "# Testing insertion in the ReplayBuffer class\n",
    "from tqdm import trange\n",
    "replay_buffer_size = int(1e6)\n",
    "nb_samples = int(2e6)\n",
    "\n",
    "memory = ReplayBuffer(replay_buffer_size)\n",
    "state = cartpole.reset()\n",
    "for _ in trange(nb_samples):\n",
    "    action = cartpole.action_space.sample()\n",
    "    next_state, reward, done, _ = cartpole.step(action)\n",
    "    memory.append(state, action, reward, next_state, done)\n",
    "    if done:\n",
    "        state = cartpole.reset()\n",
    "    else:\n",
    "        state = next_state\n",
    "\n",
    "print(len(memory))\n",
    "\n",
    "# Testing sampling in the ReplayBuffer class\n",
    "nb_batches = int(1e4)\n",
    "batch_size = 50\n",
    "import random\n",
    "\n",
    "for _ in trange(nb_batches):\n",
    "    batch = memory.sample(batch_size)\n",
    "\n",
    "print(memory.sample(2))"
   ]
  },
  {
   "cell_type": "markdown",
   "metadata": {},
   "source": [
    "<div class=\"alert alert-warning\">\n",
    "    \n",
    "**Know your data structures!**\n",
    "\n",
    "Taking the time to think about what makes a good replay buffer may save you hours of puzzled head-banging. It is important to know what you expect from your replay buffer to choose the right data structure.\n",
    "\n",
    "Common mistake: we need a fixed sized memory, that works like a FIFO structure, so let's pick a deque. That sounds fair, deques (in Python) have a fixed maximum size and constant time insertion at the beginning and the end. BUT they also have $O(n)$ access time which means that for large replay buffers, sampling a minibatch may take forever.\n",
    "\n",
    "Here, what we really need is a fixed-size FIFO, with $O(1)$ insertion at the end and $O(1)$ access.\n",
    "\n",
    "This should motivate the choices made in the replay buffer class above.\n",
    "</div>"
   ]
  },
  {
   "cell_type": "markdown",
   "metadata": {},
   "source": [
    "# <a id=sec4></a>A deep Q-network\n",
    "\n",
    "The term Deep Q-Network was coined by the (now historical) paper **[Playing Atari with Deep Reinforcement Learning](https://arxiv.org/abs/1312.5602)** by Mnih et al. (2013) that put forward the main ideas we develop here. All those were later popularized by DeepMind's paper in Nature **[Human-level control through deep reinforcement learning](https://deepmind.com/research/publications/human-level-control-through-deep-reinforcement-learning)** by Mnih et al. (2015).\n",
    "\n",
    "Let's design a (deep) neural network that will serve as a function approximator for $Q(s,a;\\theta)$. \n",
    "\n",
    "<img src=\"img/dqlas.png\" height=\"15%\" width=\"15%\"></img>\n",
    "\n",
    "Note that since we're going to have to compute $\\max_a Q(s,a)$ it is preferable to avoid running as many passes through the network as there are actions. Therefore, instead of the network structure above, we will prefer to use the one below.\n",
    "\n",
    "<img src=\"img/dqls.png\" height=\"30%\" width=\"30%\"></img>"
   ]
  },
  {
   "cell_type": "markdown",
   "metadata": {},
   "source": [
    "<div class=\"alert alert-warning\">\n",
    "    \n",
    "**Exercise:**  \n",
    "Declare a neural network for our $Q$ function. For the CartPole task, you can use a simple network with 2 hidden layers and 16 neurons on each layer. For the SwingUp task, go up to 50 neurons per layer. For Pong and the other environments... well wait a minute, we'll get to it later.\n",
    "</div>"
   ]
  },
  {
   "cell_type": "code",
   "execution_count": null,
   "metadata": {},
   "outputs": [],
   "source": [
    "# %load solutions/RL5_exercise2.py\n",
    "### WRITE YOUR CODE HERE\n",
    "# If you get stuck, uncomment the line above to load a correction in this cell (then you can execute this code)."
   ]
  },
  {
   "cell_type": "markdown",
   "metadata": {},
   "source": [
    "We're almost there. Now you can implement the algorithm that:\n",
    "- takes $\\epsilon$-greedy actions with respect to $Q$\n",
    "- stores samples in the replay buffer\n",
    "- at each interaction step with the environment, draws a mini-batch, computes the target values for each $(s,a)$ and takes a gradient step.\n",
    "- repeats"
   ]
  },
  {
   "cell_type": "markdown",
   "metadata": {},
   "source": [
    "<div class=\"alert alert-warning\">\n",
    "    \n",
    "**Exercise:**  \n",
    "Write this algorithm's pseudo-code, then proceed with your implementation, using the network and replay buffer you defined in the previous cells.\n",
    "</div>\n",
    "\n",
    "You can take inspiration from the algorithm on page 5 of **[Playing Atari with Deep Reinforcement Learning](https://arxiv.org/abs/1312.5602)**."
   ]
  },
  {
   "cell_type": "markdown",
   "metadata": {},
   "source": [
    "<div class=\"alert alert-danger\">\n",
    "    <a href=\"#DQNpseudocode\" data-toggle=\"collapse\"><b>Answer:</b></a><br>\n",
    "<div id=\"DQNpseudocode\" class=\"collapse\">\n",
    "\n",
    "         state = init()\n",
    "         loop:\n",
    "            action = greedy_action(DQN) or random_action()\n",
    "            new_state, reward = step(state, action)\n",
    "            replay_memory.add(state, action, reward, new_state)\n",
    "            minibatch = replay_memory.sample(minibatch_size)\n",
    "            X_train = Y_train = []\n",
    "            for (s,a,r,s') in minibatch:\n",
    "                Q  = DQN.predict(s)\n",
    "                Q' = DQN.predict(s')\n",
    "                if non-terminal(s'): \n",
    "                    update = r + gamma * max(Q')    \n",
    "                else:  \n",
    "                    update = r\n",
    "                Q[a] = update\n",
    "                X_train.add(s)\n",
    "                Y_train.add(Q)\n",
    "            DQN.train_one_step(X_train,Y_train)\n",
    "            state = new_state\n",
    "</div>\n",
    "</div>"
   ]
  },
  {
   "cell_type": "markdown",
   "metadata": {},
   "source": [
    "Now we can proceed with the implementation. This series of exercises break it down into small steps.\n",
    "\n",
    "<div class=\"alert alert-warning\">\n",
    "    \n",
    "**Exercise:**  \n",
    "It will actually be useful to have separate torch.Tensor for the each element type in the sampled minibatch.  \n",
    "That is one Tensor for a minibatch of states, another for actions, etc.\n",
    "Let's redefine the sample function of our replay buffer class to that end.\n",
    "</div>"
   ]
  },
  {
   "cell_type": "code",
   "execution_count": null,
   "metadata": {},
   "outputs": [],
   "source": [
    "# %load solutions/RL5_exercise3.py\n",
    "### WRITE YOUR CODE HERE\n",
    "# If you get stuck, uncomment the line above to load a correction in this cell (then you can execute this code)."
   ]
  },
  {
   "cell_type": "markdown",
   "metadata": {},
   "source": [
    "<div class=\"alert alert-warning\">\n",
    "    \n",
    "**Exercise:**  \n",
    "Define a utility function that computes the greedy action from a DQN and a batch of states.\n",
    "</div>"
   ]
  },
  {
   "cell_type": "code",
   "execution_count": null,
   "metadata": {},
   "outputs": [],
   "source": [
    "# %load solutions/RL5_exercise4.py\n",
    "### WRITE YOUR CODE HERE\n",
    "# If you get stuck, uncomment the line above to load a correction in this cell (then you can execute this code)."
   ]
  },
  {
   "cell_type": "markdown",
   "metadata": {},
   "source": [
    "<div class=\"alert alert-warning\">\n",
    "    \n",
    "**Exercise:**  \n",
    "Write a class that keeps a replay buffer as internal attribute and implements the pseudo-code you wrote earlier.  \n",
    "Here are a few tips:\n",
    "- To ensure exploration, take a constant $\\epsilon_{max}$ value during $\\tau_{delay}$ time steps, then substract $\\epsilon_{step}$ from $\\epsilon$ at every time step until you reach time $\\tau_{period}$.\n",
    "- A common optimizer (instead of plain SGD) is RMSprop.\n",
    "- Assume the interaction with the environment will be episodic. After each training episode store the episode's cumulated return for monitoring.\n",
    "\n",
    "Write your class but don't run this code just yet!\n",
    "</div>"
   ]
  },
  {
   "cell_type": "code",
   "execution_count": null,
   "metadata": {},
   "outputs": [],
   "source": [
    "# %load solutions/RL5_exercise5.py\n",
    "### WRITE YOUR CODE HERE\n",
    "# If you get stuck, uncomment the line above to load a correction in this cell (then you can execute this code)."
   ]
  },
  {
   "cell_type": "markdown",
   "metadata": {},
   "source": [
    "<div class=\"alert alert-warning\">\n",
    "    \n",
    "**Exercise:**  \n",
    "Train for 200 episodes on CartPole, with a learning rate of $0.001$, abatch size of $20$, $\\gamma=0.95$ and a replay buffer of maximum $1000000$ samples. Take $\\epsilon_{max}=1$, $\\epsilon_{min=0.01}$, $\\tau_{delay}=20$ and $\\tau_{period}=1000$.\n",
    "</div>"
   ]
  },
  {
   "cell_type": "code",
   "execution_count": null,
   "metadata": {},
   "outputs": [],
   "source": [
    "# %load solutions/RL5_exercise6.py\n",
    "### WRITE YOUR CODE HERE\n",
    "# If you get stuck, uncomment the line above to load a correction in this cell (then you can execute this code)."
   ]
  },
  {
   "cell_type": "markdown",
   "metadata": {},
   "source": [
    "# <a id=sec5></a>Making DQN more efficient"
   ]
  },
  {
   "cell_type": "markdown",
   "metadata": {},
   "source": [
    "## <a id=sec5.1></a>Changing the optimizer\n",
    "\n",
    "The question of which optimizer to choose is quite open in RL. Most common choices are RMSprop or Adam (with, sometimes, carefully chosen hyperparameters). For the example of CartPole, it seems Adam with default parameters works better, but that's not a general rule."
   ]
  },
  {
   "cell_type": "markdown",
   "metadata": {},
   "source": [
    "## <a id=sec5.2></a>Several gradient steps\n",
    "\n",
    "Recall that within an iteration of Value Iteration, one aims at minimizing the $L_n(\\theta)$ (before moving on to the next iteration). Why take a single gradient step on this loss when a new sample is collected? Taking several gradient steps can greatly accelerate the convergence in terms of number of collected samples. That's what is commonly called *sample efficiency*."
   ]
  },
  {
   "cell_type": "markdown",
   "metadata": {},
   "source": [
    "## <a id=sec5.3></a>Target network\n",
    "\n",
    "It appears the code above will (probably) slowly converge to $Q^*$ but this convergence might be unstable and noisy. This can be greatly improved by taking several gradient steps on a given loss function $L_n$ instead of changing the loss function after each sample. This idea is similar to the one above. And is the same as that of delayed updates that we introduced in the class on temporal difference learning. \n",
    "\n",
    "In practice, this is achieved by the introduction of a *target network* whose parameters are noted $\\theta^-$. This idea for DQN was introduced in the **[Human-level control through deep reinforcement learning](https://deepmind.com/research/publications/human-level-control-through-deep-reinforcement-learning)** paper. At any time step, the loss becomes:\n",
    "$$L(\\theta) = \\mathbb{E}_{s,a,r,s'} \\left[ \\left( r + \\gamma \\max_{a'} Q(s',a',\\theta^-) - Q(s,a;\\theta) \\right) ^2 \\right],$$\n",
    "and the target network parameters $\\theta^-$ are only updated with the Q-network parameters $\\theta_n$ every $C$ steps and are held fixed between individual updates.\n",
    "\n",
    "This process of accumulating several gradient steps into $\\theta_n$ before updating $\\theta^-$ draws our algorithm closer to a Value Iteration scheme (or a Fitted Q-Iteration scheme for that matter).\n",
    "\n",
    "Note that more recent approaches smooth out this accumulation process by defining soft updates of the form:\n",
    "$$\\theta^- \\leftarrow \\beta \\theta^- + (1-\\beta) \\theta_n.$$"
   ]
  },
  {
   "cell_type": "markdown",
   "metadata": {},
   "source": [
    "## <a id=sec5.4></a>Error clipping\n",
    "\n",
    "Another common pratice to stabilize learning is to clip the value of the loss' gradient between $-1$ and $1$. This is not such an uncommon trick, it actually amounts to using an L2 loss for values of the loss between $-1$ and $1$ and an L1 loss outside of this domain. This is also know as the [Huber Loss](https://en.wikipedia.org/wiki/Huber_loss) or the [smooth L1 loss](https://pytorch.org/docs/stable/nn.html#smoothl1loss)."
   ]
  },
  {
   "cell_type": "markdown",
   "metadata": {},
   "source": [
    "<div class=\"alert alert-warning\">\n",
    "    \n",
    "**Exercise:**  \n",
    "Modify you code from the previous exercises to include a target network (with $C$ in the order of $100$), a fixed number of gradient steps per acquired sample, and the clipping of the error term. You can also use Adam for improved efficiency.\n",
    "</div>"
   ]
  },
  {
   "cell_type": "code",
   "execution_count": null,
   "metadata": {},
   "outputs": [],
   "source": [
    "# %load solutions/RL5_exercise7.py\n",
    "### WRITE YOUR CODE HERE\n",
    "# If you get stuck, uncomment the line above to load a correction in this cell (then you can execute this code).\n"
   ]
  },
  {
   "cell_type": "markdown",
   "metadata": {},
   "source": [
    "<div class=\"alert alert-warning\">\n",
    "    \n",
    "**Exercise:**  \n",
    "Run your code to learn an efficient policy for CartPole. Don't forget to reset the network before you start learning.\n",
    "</div>"
   ]
  },
  {
   "cell_type": "code",
   "execution_count": null,
   "metadata": {},
   "outputs": [],
   "source": [
    "# %load solutions/RL5_exercise8.py\n",
    "### WRITE YOUR CODE HERE\n",
    "# If you get stuck, uncomment the line above to load a correction in this cell (then you can execute this code)."
   ]
  },
  {
   "cell_type": "markdown",
   "metadata": {},
   "source": [
    "# <a id=\"sec6\"></a> Metrics\n",
    "\n",
    "Let's take a step back to reflect about what we really measure in the experiment above. We have counted the number of steps per training episode. But during these episodes, the applied policy was $\\epsilon$-greedy, not greedy. So this is not an objective measure of performance.\n",
    "\n",
    "On the other hand, what is really being optimized here is the average sum of discounted rewards.\n",
    "\n",
    "<div class=\"alert alert-warning\">\n",
    "    \n",
    "**Exercise:**  \n",
    "Enhance your previous code with the monitoring, after each episode, of:\n",
    "- the number of steps of the training episode\n",
    "- a Monte Carlo estimate of the total sum of rewards from the (distribution of) starting state,\n",
    "- a Monte Carlo estimate of the sum of discounted rewards from the (distribution of) starting state,\n",
    "- an average, over possible starting states $s_0$ of the current $\\max_a Q(s_0,a)$.\n",
    "</div>"
   ]
  },
  {
   "cell_type": "code",
   "execution_count": null,
   "metadata": {},
   "outputs": [],
   "source": [
    "# %load solutions/RL5_exercise9.py\n",
    "### WRITE YOUR CODE HERE\n",
    "# If you get stuck, uncomment the line above to load a correction in this cell (then you can execute this code)."
   ]
  },
  {
   "cell_type": "markdown",
   "metadata": {},
   "source": [
    "<div class=\"alert alert-warning\">\n",
    "    \n",
    "**Exercise:**  \n",
    "Use this monitoring to plot these values versus the number of episodes, after training.\n",
    "</div>"
   ]
  },
  {
   "cell_type": "code",
   "execution_count": null,
   "metadata": {},
   "outputs": [],
   "source": [
    "# %load solutions/RL5_exercise10.py\n",
    "### WRITE YOUR CODE HERE\n",
    "# If you get stuck, uncomment the line above to load a correction in this cell (then you can execute this code)."
   ]
  },
  {
   "cell_type": "markdown",
   "metadata": {},
   "source": [
    "Remarks on CartPole:\n",
    "- Have you noted that Q overestimates the true value of the optimal policy? More on this in [this paper](https://papers.nips.cc/paper/3964-double-q-learning) if you are interested.\n",
    "- Have you noted that the greedy policy is optimal much sooner than the $Q$ function?\n",
    "- Have you remarked that the greedy policy performs well much sooner than the agent's policy (which is $\\epsilon$-greedy)?\n",
    "- Can you anticipate the importance of well tuned exploration, for instance if the state space is much larger, or if parts of it are very hard to reach?\n",
    "- Can you anticipate the effect of taking a larger $\\gamma$?"
   ]
  },
  {
   "cell_type": "markdown",
   "metadata": {},
   "source": [
    "<div class=\"alert alert-warning\">\n",
    "    \n",
    "**Exercise:**  \n",
    "Train on SwingUp.\n",
    "</div>"
   ]
  },
  {
   "cell_type": "code",
   "execution_count": null,
   "metadata": {},
   "outputs": [],
   "source": [
    "# %load solutions/RL5_exercise11.py\n",
    "### WRITE YOUR CODE HERE\n",
    "# If you get stuck, uncomment the line above to load a correction in this cell (then you can execute this code)."
   ]
  },
  {
   "cell_type": "markdown",
   "metadata": {},
   "source": [
    "Remarks on SwingUp:\n",
    "- Did your DQN learn to avoid the -10 penalty instead of swinging up? The exploration question becomes a crucial issue, doesn't it?"
   ]
  },
  {
   "cell_type": "markdown",
   "metadata": {},
   "source": [
    "# <a id=\"sec7\"></a>DQN on image-based tasks\n",
    "\n",
    "Now it's time to turn towards Pong. As you noted earlier, the frame information in Pong is not sufficient to define an MDP, but stacking several frames together allows to recover the Markov property.\n",
    "\n",
    "We could wish to modify the previous replay buffer so that frames are stored only once (for memory efficiency). Then this new replay buffer would still need to return stacks of 4 frames when `sample()` is called.\n",
    "\n",
    "Fortunately, there's a simpler way to do that.\n",
    "We can use a wrapper (provided by Gym in this case) so that calling env.step(a) returns a stack of 4 frames.\n",
    "This wrapper actually only stores each frame once which optimizes memory efficiency. This way, we can keep on using our previous replay buffer class."
   ]
  },
  {
   "cell_type": "code",
   "execution_count": null,
   "metadata": {},
   "outputs": [],
   "source": [
    "from gym.wrappers import FrameStack\n",
    "pong = FrameStack(pong, 4)"
   ]
  },
  {
   "cell_type": "code",
   "execution_count": null,
   "metadata": {},
   "outputs": [],
   "source": [
    "x = pong.reset()\n",
    "print(torch.Tensor(x).shape)"
   ]
  },
  {
   "cell_type": "markdown",
   "metadata": {},
   "source": [
    "The two DQN papers ([Playing Atari with Deep Reinforcement Learning](https://arxiv.org/abs/1312.5602) and [Human-level control through deep reinforcement learning](https://deepmind.com/research/publications/human-level-control-through-deep-reinforcement-learning)) actually introduce two different neural network architectures.\n",
    "\n",
    "The 2013 paper uses this architecture:\n",
    "- input: $84\\times 84\\times 4$ image (the last 4 frames)\n",
    "- layer 1: Convolutions with 16 filters of size $8\\times 8$ and stride 4. The activation is a ReLU function.\n",
    "- layer 2: Convolutions with 32 filters of size $4\\times 4$ and stride 2. The activation is a ReLU function.\n",
    "- layer 3: Fully connected with 256 ReLU units\n",
    "- layer 4 (output): Fully connected with 2 linear units (one for each action's value)\n",
    "\n",
    "The 2015 paper \n",
    "- input: $84\\times 84\\times 4$ image (the last 4 frames)\n",
    "- layer 1: Convolutions with 32 filters of size $8\\times 8$ and stride 4. The activation is a ReLU function.\n",
    "- layer 2: Convolutions with 64 filters of size $4\\times 4$ and stride 2. The activation is a ReLU function.\n",
    "- layer 3: Convolutions with 64 filters of size $3\\times 3$ and stride 1. The activation is a ReLU function.\n",
    "- layer 4: Fully connected with 512 ReLU units\n",
    "- layer 5 (output): Fully connected with 2 linear units (one for each action's value)\n",
    "\n",
    "Also, it is a good practice to pre-fill the replay buffer with randomly sampled experience. The 2015 paper runs a random policy for 50000 steps to feed the replay buffer before training."
   ]
  },
  {
   "cell_type": "markdown",
   "metadata": {},
   "source": [
    "<div class=\"alert alert-warning\">\n",
    "    \n",
    "**Exercise:** Create the corresponding neural network and adapt your optimization code from the previous exercice to train on Pong (you can take $C$ much larger, in the order of $10000$).\n",
    "</div>\n",
    "\n",
    "Caveat: unless you have a good GPU and a fair amount of time ahead of you (several hours or more), it is recommended to run this computation for a limited number of episodes, on a cloud computing service (or on a dediated machine)."
   ]
  },
  {
   "cell_type": "code",
   "execution_count": null,
   "metadata": {},
   "outputs": [],
   "source": [
    "# %load solutions/RL5_exercise12.py\n",
    "### WRITE YOUR CODE HERE\n",
    "# If you get stuck, uncomment the line above to load a correction in this cell (then you can execute this code)."
   ]
  },
  {
   "cell_type": "markdown",
   "metadata": {},
   "source": [
    "To give you an idea of the behavior of a trained agent, you can check the following videos."
   ]
  },
  {
   "cell_type": "code",
   "execution_count": null,
   "metadata": {},
   "outputs": [],
   "source": [
    "from IPython.display import YouTubeVideo\n",
    "YouTubeVideo(\"p88R2_3yWPA\")"
   ]
  },
  {
   "cell_type": "code",
   "execution_count": null,
   "metadata": {},
   "outputs": [],
   "source": [
    "YouTubeVideo(\"TmPfTpjtdgg\")"
   ]
  },
  {
   "cell_type": "markdown",
   "metadata": {},
   "source": [
    "# <a id=\"sec7\"></a>Going further\n",
    "\n",
    "A lot of contributions have built on the initial success of DQN. Among those, some are combined and discussed in the **[Rainbow: Combining Improvements in Deep Reinforcement Learning](https://arxiv.org/abs/1710.02298)** paper. We will simply summarize their key ideas here, by decreasing order of importance (according to the paper).\n",
    "\n",
    "- N-step returns. Use samples that accumulate several returns rather than the 1-step return of TD(0).\n",
    "- [Prioritized experience replay](https://arxiv.org/abs/1511.05952). Inspired by the model-based [Prioritized Sweeping](https://link.springer.com/article/10.1007/BF00993104) approach, bias the distribution used to sample mini-batches in order to present high residual samples to the optimizer. Prioritized Sweeping is designed to accelerate the convergence in $L_\\infty$ norm for tabular representations.\n",
    "- [Distributional value functions](https://arxiv.org/abs/1707.06887). Instead of estimating $\\mathbb{E}(\\sum_t \\gamma^t r_t)$, estimate the distribution of $\\sum_t \\gamma^r r_t$ and iterate on it.\n",
    "- [NoisyNet](https://arxiv.org/abs/1706.10295). Instead of an $\\epsilon$-greedy exploration strategy, introduce noise in the network's parameters to drive the exploration.\n",
    "- [Dueling architecture](https://arxiv.org/abs/1511.06581). The neural network's architecture splits $Q$ into the estimation of a value $V(s)$ and an advantage $A(s,a)$ with shared first layers.\n",
    "- [Double Q-learning](https://arxiv.org/abs/1509.06461). Q-learning is prone to over-estimation of the true optimal Q function (especially in high variance environments). Double Q-learning aims at compensating this weakness by introducing an under-estimation mechanism based on a second Q function.\n",
    "\n",
    "Beyond these improvements, new work is published each year that leads to a better understanding of the interplay between Deep Learning and RL."
   ]
  },
  {
   "cell_type": "markdown",
   "metadata": {},
   "source": [
    "# <a id=\"challenge\"></a>Challenge\n",
    "\n",
    "In this challenge, we provide two new environments, on top of the SwingUp problem introduced before. All environments feature different difficulties. It is recommended that you focus on a single environment."
   ]
  },
  {
   "cell_type": "markdown",
   "metadata": {},
   "source": [
    "## <a id=\"bicycle\"></a>Bicycle\n",
    "\n",
    "This environment was originally introduced in the 1998 article on **[Learning to Drive a Bicycle Using Reinforcement Learning and Shaping](#https://www.researchgate.net/publication/221346431_Learning_to_Drive_a_Bicycle_Using_Reinforcement_Learning_and_Shaping)** by J. Randløv and P. Alstrøm. Notably, it was also one of the key benchmarks for **[Least Squares Policy Iteration](http://www.jmlr.org/papers/volume4/lagoudakis03a/lagoudakis03a.pdf)** by Lagoudakis and Parr in 2003.\n",
    "\n",
    "The environment provided here uses the exact same simulator but defines more rigorously the state variables. It is not a gym environment and has no `render` method, but it still provides the `step` and `reset` methods.\n",
    "\n",
    "In short, in this environment you try to ride a bicyle from an initial location $(x,y)=(0,0)$ to a goal that is located one kilometer further $(x_{goal},y_{goal})=(1000,0)$.\n",
    "\n",
    "The bicycle state variables are:\n",
    "- $\\theta$ the angle of the handlebar\n",
    "- $\\dot{\\theta}$\n",
    "- $\\omega$ the tilt angle between the $z$-axis and the bicycle+cyclist center of mass\n",
    "- $\\dot{\\omega}$\n",
    "- $x_b,y_b$ the position of the bicyle's back tire\n",
    "- $x_f,y_f$ the position of the bicyle's front tire\n",
    "- $\\psi'_{goal}$ a not-so-useful variable kept for historical reasons, that is roughly proprotional to $\\psi_{goal}$\n",
    "- $d_{goal}$ the distance between the front tire and the goal\n",
    "- $\\psi$ the bicycle's heading angle (angle between the bicycle and the y-axis)\n",
    "- $\\psi_{goal}$ the angle between the bicycle back wheel - front wheel axis, and the back wheel - goal axis\n",
    "\n",
    "The agent starts at $(x_b,y_b)=(0,0)$ with a random heading in $[-\\pi,\\pi]$, and random small values for $\\theta$, $\\dot{\\theta}$, $\\omega$ and $\\dot{\\omega}$ around the unstable equilibrium point."
   ]
  },
  {
   "cell_type": "code",
   "execution_count": null,
   "metadata": {},
   "outputs": [],
   "source": [
    "from environments.bicycle import Bicycle\n",
    "bike = Bicycle()\n",
    "x = bike.reset()\n",
    "print(x)"
   ]
  },
  {
   "cell_type": "markdown",
   "metadata": {},
   "source": [
    "The cyclist moves at a constant speed and his actions to control the bicycle consist in applying a torque to the handlebar or shifting his weight left or right. The action space is discrete and consists of 5 actions. What you pass to the `step` method is the action index.\n",
    "\n",
    "The episode ends when the tilt angle exceeds $\\frac{\\pi}{15}$.\n",
    "\n",
    "To encourage the bike staying up and guiding it towards the goal, the reward model uses *reward shaping*. It is written:\n",
    "$$r(s,a,s') = \\omega^2 - \\omega'^2 + k\\cdot\\left( d_{goal} - d'_{goal} \\right)$$"
   ]
  },
  {
   "cell_type": "code",
   "execution_count": null,
   "metadata": {
    "scrolled": true
   },
   "outputs": [],
   "source": [
    "%matplotlib inline\n",
    "import matplotlib.pyplot as plt\n",
    "\n",
    "print(bike.action_set)\n",
    "X = []\n",
    "x = bike.reset()\n",
    "X.append(x)\n",
    "for i in range(1000):\n",
    "    y, r, d, _ = bike.step(0)\n",
    "    x = y\n",
    "    X.append(x)\n",
    "    if d:\n",
    "        break\n",
    "\n",
    "print(\"trajectory length\", len(X))\n",
    "X = np.array(X)\n",
    "plt.plot(X[:,4],X[:,5]);"
   ]
  },
  {
   "cell_type": "markdown",
   "metadata": {},
   "source": [
    "## <a id=\"sti\"></a>Structured Treatment Interruptions\n",
    "\n",
    "This environment implements the simulator defined in **[Dynamic Multidrug Therapies for HIV: Optimal and STI Control Approaches](https://www.aimspress.com/fileOther/PDF/MBE/1551-0018_2004_2_223.pdf)** by B. M. Adams et al. (2004). It was notably used in **[Clinical data based optimal STI strategies for HIV: a reinforcement learning approach](https://ieeexplore.ieee.org/document/4177178)** by D. Ernst et al. (2006).\n",
    "\n",
    "This environment simulates the immune system of an HIV-infected patient. It is not a gym environment and has no `render` method, but it still provides the `step` and `reset` methods. \n",
    "\n",
    "In short, HIV can infect two types of cells (type 1 and type 2 below) and replicate itself, which increases the virus load in the blood stream. The immune system fights off the virus by increasing the concentration of macrophages (effector cells below).\n",
    "\n",
    "The patient state variables are:\n",
    "- $T_1$ healthy type 1 cells concentration (cells per mL)\n",
    "- $T_1^*$ infected type 1 cells concentration (cells per mL)\n",
    "- $T_2$ healthy type 2 cells concentration (cells per mL)\n",
    "- $T_2^*$ infected type 2 cells concentration (cells per mL)\n",
    "- $V$ free virus (copies per mL)\n",
    "- $E$ immune effector cells concentration (cells per mL)\n",
    "\n",
    "Once infected, if no treatment is applied, the patient naturally evolve to one of two steady states: either the immune system controls the infection and the patient is healthy, or the infection dominates and the patient is unhealthy.\n",
    "\n",
    "By default `reset` deterministically puts the patient in the infected unhealthy state.\n",
    "\n",
    "    The transition() function allows to simulate continuous time dynamics and control.\n",
    "    The step() function is tailored for the evaluation of Structured Treatment Interruptions."
   ]
  },
  {
   "cell_type": "code",
   "execution_count": null,
   "metadata": {},
   "outputs": [],
   "source": [
    "from environments.hiv_patient import HIVPatient\n",
    "patient = HIVPatient()\n",
    "print(\"Uninfected patient:\", patient.reset(\"uninfected\"))\n",
    "print(\"Unhealthy patient:\", patient.reset()) # actually equivalent to patient.reset(\"unhealthy\")\n",
    "print(\"Healthy patient:\", patient.reset(mode=\"healthy\"))"
   ]
  },
  {
   "cell_type": "markdown",
   "metadata": {},
   "source": [
    "The `step` method simulates the evolution of the patient over a time step of $5$ days. The system is deterministic. For example, if we want to simulate a patient with a 25% immunity loss, with no treatment, over 400 days, we could do:"
   ]
  },
  {
   "cell_type": "code",
   "execution_count": null,
   "metadata": {},
   "outputs": [],
   "source": [
    "%matplotlib inline\n",
    "import matplotlib.pyplot as plt\n",
    "from environments.hiv_patient import HIVPatient\n",
    "\n",
    "patient = HIVPatient()\n",
    "s = patient.reset(mode=\"healthy\")\n",
    "s[5] *= .75\n",
    "patient.E *= .75\n",
    "print(patient.E)\n",
    "dur = 80 # 400/5\n",
    "#nb_steps = int(dur//1e-3)\n",
    "states = [s]\n",
    "for i in range(dur):\n",
    "    s, r, d, _ = patient.step(0)\n",
    "    states.append(s)\n",
    "    \n",
    "fig, axs = plt.subplots(2, 3, figsize=(15, 15))\n",
    "npst = np.array(states)\n",
    "axs[0,0].plot(npst[:,0])\n",
    "axs[0,0].set_title(\"T1\")\n",
    "axs[0,1].plot(npst[:,1])\n",
    "axs[0,1].set_title(\"T1*\")\n",
    "axs[0,2].plot(npst[:,2])\n",
    "axs[0,2].set_title(\"T2\")\n",
    "axs[1,0].plot(npst[:,3])\n",
    "axs[1,0].set_title(\"T2*\")\n",
    "axs[1,1].plot(npst[:,4])\n",
    "axs[1,1].set_title(\"V\")\n",
    "axs[1,2].plot(npst[:,5])\n",
    "axs[1,2].set_title(\"E\");"
   ]
  },
  {
   "cell_type": "markdown",
   "metadata": {},
   "source": [
    "Two types of drugs can be given to the patient, that differ in the way they affect the viral load. The problem we look at consists in giving or not a certain drug at every step, to allow for **structured treatment interruptions** (STI). Such interruptions have double goal: train the immune system to react by itself and provide the patient with a better quality of life.\n",
    "\n",
    "The action space is discrete and consists of 5 actions. What you pass to the `step` method is the action index.\n",
    "\n",
    "The patient's death over the course of treatment is not explicitly modelled (but the viral load can reach very high values). So this simulator does not have a termination condition (`step` never returns `done=True`). The reward model discourages giving drugs, aims at a low viral load and a high immunity:\n",
    "$$r(s,a,s') = -k_V \\cdot V + k_E \\cdot E -k_1 R_2 - k_2 \\cdot R_2$$\n",
    "where $R_1$ and $R_2$ are the amounts of prescribed drugs 1 and 2 respectively."
   ]
  },
  {
   "cell_type": "code",
   "execution_count": null,
   "metadata": {},
   "outputs": [],
   "source": [
    "print(patient.action_set)"
   ]
  },
  {
   "cell_type": "markdown",
   "metadata": {},
   "source": [
    "## <a id=\"turn\"></a>Your turn to play"
   ]
  },
  {
   "cell_type": "markdown",
   "metadata": {},
   "source": [
    "<div class=\"alert alert-warning\">\n",
    "    \n",
    "**Exercise (open-ended):**  \n",
    "Your turn to play!  \n",
    "Can you solve SwingUp? Bicycle? STI?  \n",
    "Why are these problems more difficult than CartPole?  \n",
    "Be creative!\n",
    "</div>"
   ]
  },
  {
   "cell_type": "code",
   "execution_count": null,
   "metadata": {},
   "outputs": [],
   "source": []
  }
 ],
 "metadata": {
  "kernelspec": {
   "display_name": "Python 3 (ipykernel)",
   "language": "python",
   "name": "python3"
  },
  "language_info": {
   "codemirror_mode": {
    "name": "ipython",
    "version": 3
   },
   "file_extension": ".py",
   "mimetype": "text/x-python",
   "name": "python",
   "nbconvert_exporter": "python",
   "pygments_lexer": "ipython3",
<<<<<<< Updated upstream
   "version": "3.8.10"
=======
   "version": "3.8.8"
>>>>>>> Stashed changes
  },
  "toc": {
   "base_numbering": 1,
   "nav_menu": {},
   "number_sections": true,
   "sideBar": true,
   "skip_h1_title": false,
   "title_cell": "Table of Contents",
   "title_sidebar": "Contents",
   "toc_cell": false,
   "toc_position": {},
   "toc_section_display": true,
   "toc_window_display": true
  }
 },
 "nbformat": 4,
 "nbformat_minor": 2
}
