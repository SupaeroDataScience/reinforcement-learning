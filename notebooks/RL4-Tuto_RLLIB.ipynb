{
  "nbformat": 4,
  "nbformat_minor": 0,
  "metadata": {
    "colab": {
      "provenance": []
    },
    "kernelspec": {
      "name": "python3",
      "display_name": "Python 3"
    },
    "language_info": {
      "name": "python"
    },
    "gpuClass": "standard",
    "accelerator": "GPU"
  },
  "cells": [
    {
      "cell_type": "markdown",
      "source": [
        "\n",
        "\n",
        "<p align=\"center\">\n",
        "<img src=\"https://softwareengineeringdaily.com/wp-content/uploads/2020/02/ray-logo.png\" alt=\"drawing\" width=\"400\" />\n",
        "</p>\n",
        "\n",
        "# Why Ray ? \n",
        "As you all know, Python is an interpreted language: An interpreter executes the lines of code one by one. \n",
        "As a result, a python program takes much longer to execute than a binary file compiled with C or C++. \n",
        "Ok, but for a lot of reasons, we don't want to use C++ ...\n",
        "What's left : \n",
        "- **Optimize your code**: \n",
        "\n",
        "it seems obvious and yet we often forget it. Of course it has its limits ...\n",
        "\n",
        "- **Multithreading**: \n",
        "\n",
        "Distribute your code in several tasks that all have access to the same memory. However, if you know well python, you know the limits imposed by the GIL (Global Lock Interpreter) :\n",
        "<p align=\"center\">\n",
        "<img src=\"https://pbs.twimg.com/media/EZzAw78WAAE7d_D.jpg\" alt=\"drawing\" width=\"400\" />\n",
        "</p> \n",
        "\n",
        "\n",
        "- **Multiprocessing**: \n",
        "\n",
        "We're left with multiprocessing, but there are multiple ways to implement multiprocessing. You can use the python multiprocessing library. Also you will have to deal with the memory. In addition, when you want to scale efficiently on an HPC you will have to use a different framework like MPI. \n",
        "Also, You will probably have to rethink your machine learning application from the beginning.\n",
        "\n",
        "**The answer to your problems is Ray** : \n",
        "\n",
        "Ray offers an extremely simple api to distribute your code with minimal changes. In addition, Ray offers a whole bunch of libraries that allow machine learning applications while optimizing the use of resources to get the best models, as quickly as possible. \n",
        "Finally, one of the most interesting capabilities (to me) is that Ray scales very well on clusters.\n",
        "\n",
        "\n",
        "\n",
        "Today we will see the different librairies that ray offers. \n",
        "**Part 1** of this tutorial presents very simply how ray core works. **The second** part gives an overview of the different machine learning libraries that ray offers and refers to introductory tutorials, the idea being just to draw your attention to the fact that these libraries exist.\n",
        "**The third** part is the heart of the tutorial, in this part we will see how to use RLlib a library of Ray that allows to do distributed RL.\n",
        "\n",
        "1. Introduction to Ray Core :\n",
        "  * init \n",
        "  * remote \n",
        "  * serialization\n",
        "  * ray on HPC (links)\n",
        "2. Ray librairies overview :\n",
        "  * Ray Data (links)\n",
        "  * Ray Train (links)\n",
        "  * Ray Tune (links)\n",
        "3. TP RLLIB : \n",
        "  * RLib overview \n",
        "  * First training : **CartPole-v0 with PPO**\n",
        "    * Train\n",
        "    * Tensorboard or Weights and Biases : Framework to monitor your training\n",
        "    * Monitor your training\n",
        "<p align=\"center\">\n",
        "<img src=\"https://bytepawn.com/images/cartpole.gif\" alt=\"drawing\" width=\"400\" />\n",
        "</p>\n",
        "  * Second traning : **Pong with rainbow**\n",
        "    * Train\n",
        "    * Change your Neural Network\n",
        "    * Change the Loss (implementing Curl)\n",
        "  * Optimize the hyper-parameters with ray tune or by yourself\n",
        "  * Test other algorithms\n",
        "  * Build your own environment and use ray to train your agent on it\n",
        "\n",
        "<p align=\"center\">\n",
        "<img src=\"https://blog.floydhub.com/content/images/2018/12/gif1.gif\" alt=\"drawing\" width=\"400\" />\n",
        "</p>\n",
        "\n",
        "\n"
      ],
      "metadata": {
        "id": "MCS5xukfKEeJ"
      }
    },
    {
      "cell_type": "markdown",
      "source": [
        "# Ray core\n",
        "Ray Core provides a small number of core primitives (i.e., tasks, actors, objects) for building and scaling distributed applications. Below we’ll walk through simple examples that show you how to turn your functions and classes easily into Ray tasks and actors, and how to work with Ray objects.\n",
        "\n",
        "See more : [Ray Core](https://docs.ray.io/en/latest/ray-core/walkthrough.html)"
      ],
      "metadata": {
        "id": "TJnkR63eUryS"
      }
    },
    {
      "cell_type": "markdown",
      "source": [
        "Fist let's install the library on your Colab sever :"
      ],
      "metadata": {
        "id": "hIqV3AsdWYXx"
      }
    },
    {
      "cell_type": "code",
      "source": [
        "!pip install ray > /dev/null 2>&1"
      ],
      "metadata": {
        "id": "50dbZdL4q7fy"
      },
      "execution_count": null,
      "outputs": []
    },
    {
      "cell_type": "code",
      "source": [
        "! ray --version "
      ],
      "metadata": {
        "colab": {
          "base_uri": "https://localhost:8080/"
        },
        "id": "G8g2K8IPhDNl",
        "outputId": "afb08785-136c-4081-e5ef-a62d644e0afc"
      },
      "execution_count": null,
      "outputs": [
        {
          "output_type": "stream",
          "name": "stdout",
          "text": [
            "ray, version 2.2.0\n",
            "\u001b[0m"
          ]
        }
      ]
    },
    {
      "cell_type": "code",
      "source": [
        "import pickle\n",
        "print(pickle.format_version)"
      ],
      "metadata": {
        "colab": {
          "base_uri": "https://localhost:8080/"
        },
        "id": "9RlMJcp2hUWy",
        "outputId": "bdee585d-0460-49fd-a13d-ce45853916bd"
      },
      "execution_count": null,
      "outputs": [
        {
          "output_type": "stream",
          "name": "stdout",
          "text": [
            "4.0\n"
          ]
        }
      ]
    },
    {
      "cell_type": "markdown",
      "source": [
        "## Init\n",
        "Ray provides an really simple API that allows you to initialize the module and use all its parallelization capabilities :"
      ],
      "metadata": {
        "id": "ek_5N7YhWl79"
      }
    },
    {
      "cell_type": "code",
      "execution_count": null,
      "metadata": {
        "colab": {
          "base_uri": "https://localhost:8080/",
          "height": 79
        },
        "id": "vrmTrgZ1qs-6",
        "outputId": "232c022d-bb92-4acc-a5e2-19518c462245"
      },
      "outputs": [
        {
          "output_type": "stream",
          "name": "stderr",
          "text": [
            "2023-01-21 12:46:37,810\tINFO worker.py:1538 -- Started a local Ray instance.\n"
          ]
        },
        {
          "output_type": "execute_result",
          "data": {
            "text/plain": [
              "RayContext(dashboard_url='', python_version='3.8.10', ray_version='2.2.0', ray_commit='b6af0887ee5f2e460202133791ad941a41f15beb', address_info={'node_ip_address': '172.28.0.12', 'raylet_ip_address': '172.28.0.12', 'redis_address': None, 'object_store_address': '/tmp/ray/session_2023-01-21_12-46-36_475488_298/sockets/plasma_store', 'raylet_socket_name': '/tmp/ray/session_2023-01-21_12-46-36_475488_298/sockets/raylet', 'webui_url': '', 'session_dir': '/tmp/ray/session_2023-01-21_12-46-36_475488_298', 'metrics_export_port': 53730, 'gcs_address': '172.28.0.12:61152', 'address': '172.28.0.12:61152', 'dashboard_agent_listen_port': 52365, 'node_id': '5fcd373cdb1161b1921ab1a6b4d5edd983b197038fd3483c48bc12fd'})"
            ],
            "text/html": [
              "<div>\n",
              "    <div style=\"margin-left: 50px;display: flex;flex-direction: row;align-items: center\">\n",
              "        <h3 style=\"color: var(--jp-ui-font-color0)\">Ray</h3>\n",
              "        <svg version=\"1.1\" id=\"ray\" width=\"3em\" viewBox=\"0 0 144.5 144.6\" style=\"margin-left: 3em;margin-right: 3em\">\n",
              "            <g id=\"layer-1\">\n",
              "                <path fill=\"#00a2e9\" class=\"st0\" d=\"M97.3,77.2c-3.8-1.1-6.2,0.9-8.3,5.1c-3.5,6.8-9.9,9.9-17.4,9.6S58,88.1,54.8,81.2c-1.4-3-3-4-6.3-4.1\n",
              "                    c-5.6-0.1-9.9,0.1-13.1,6.4c-3.8,7.6-13.6,10.2-21.8,7.6C5.2,88.4-0.4,80.5,0,71.7c0.1-8.4,5.7-15.8,13.8-18.2\n",
              "                    c8.4-2.6,17.5,0.7,22.3,8c1.3,1.9,1.3,5.2,3.6,5.6c3.9,0.6,8,0.2,12,0.2c1.8,0,1.9-1.6,2.4-2.8c3.5-7.8,9.7-11.8,18-11.9\n",
              "                    c8.2-0.1,14.4,3.9,17.8,11.4c1.3,2.8,2.9,3.6,5.7,3.3c1-0.1,2,0.1,3,0c2.8-0.5,6.4,1.7,8.1-2.7s-2.3-5.5-4.1-7.5\n",
              "                    c-5.1-5.7-10.9-10.8-16.1-16.3C84,38,81.9,37.1,78,38.3C66.7,42,56.2,35.7,53,24.1C50.3,14,57.3,2.8,67.7,0.5\n",
              "                    C78.4-2,89,4.7,91.5,15.3c0.1,0.3,0.1,0.5,0.2,0.8c0.7,3.4,0.7,6.9-0.8,9.8c-1.7,3.2-0.8,5,1.5,7.2c6.7,6.5,13.3,13,19.8,19.7\n",
              "                    c1.8,1.8,3,2.1,5.5,1.2c9.1-3.4,17.9-0.6,23.4,7c4.8,6.9,4.6,16.1-0.4,22.9c-5.4,7.2-14.2,9.9-23.1,6.5c-2.3-0.9-3.5-0.6-5.1,1.1\n",
              "                    c-6.7,6.9-13.6,13.7-20.5,20.4c-1.8,1.8-2.5,3.2-1.4,5.9c3.5,8.7,0.3,18.6-7.7,23.6c-7.9,5-18.2,3.8-24.8-2.9\n",
              "                    c-6.4-6.4-7.4-16.2-2.5-24.3c4.9-7.8,14.5-11,23.1-7.8c3,1.1,4.7,0.5,6.9-1.7C91.7,98.4,98,92.3,104.2,86c1.6-1.6,4.1-2.7,2.6-6.2\n",
              "                    c-1.4-3.3-3.8-2.5-6.2-2.6C99.8,77.2,98.9,77.2,97.3,77.2z M72.1,29.7c5.5,0.1,9.9-4.3,10-9.8c0-0.1,0-0.2,0-0.3\n",
              "                    C81.8,14,77,9.8,71.5,10.2c-5,0.3-9,4.2-9.3,9.2c-0.2,5.5,4,10.1,9.5,10.3C71.8,29.7,72,29.7,72.1,29.7z M72.3,62.3\n",
              "                    c-5.4-0.1-9.9,4.2-10.1,9.7c0,0.2,0,0.3,0,0.5c0.2,5.4,4.5,9.7,9.9,10c5.1,0.1,9.9-4.7,10.1-9.8c0.2-5.5-4-10-9.5-10.3\n",
              "                    C72.6,62.3,72.4,62.3,72.3,62.3z M115,72.5c0.1,5.4,4.5,9.7,9.8,9.9c5.6-0.2,10-4.8,10-10.4c-0.2-5.4-4.6-9.7-10-9.7\n",
              "                    c-5.3-0.1-9.8,4.2-9.9,9.5C115,72.1,115,72.3,115,72.5z M19.5,62.3c-5.4,0.1-9.8,4.4-10,9.8c-0.1,5.1,5.2,10.4,10.2,10.3\n",
              "                    c5.6-0.2,10-4.9,9.8-10.5c-0.1-5.4-4.5-9.7-9.9-9.6C19.6,62.3,19.5,62.3,19.5,62.3z M71.8,134.6c5.9,0.2,10.3-3.9,10.4-9.6\n",
              "                    c0.5-5.5-3.6-10.4-9.1-10.8c-5.5-0.5-10.4,3.6-10.8,9.1c0,0.5,0,0.9,0,1.4c-0.2,5.3,4,9.8,9.3,10\n",
              "                    C71.6,134.6,71.7,134.6,71.8,134.6z\"/>\n",
              "            </g>\n",
              "        </svg>\n",
              "        <table>\n",
              "            <tr>\n",
              "                <td style=\"text-align: left\"><b>Python version:</b></td>\n",
              "                <td style=\"text-align: left\"><b>3.8.10</b></td>\n",
              "            </tr>\n",
              "            <tr>\n",
              "                <td style=\"text-align: left\"><b>Ray version:</b></td>\n",
              "                <td style=\"text-align: left\"><b> 2.2.0</b></td>\n",
              "            </tr>\n",
              "            \n",
              "        </table>\n",
              "    </div>\n",
              "</div>\n"
            ]
          },
          "metadata": {},
          "execution_count": 2
        }
      ],
      "source": [
        "import ray \n",
        "ray.init()"
      ]
    },
    {
      "cell_type": "markdown",
      "source": [
        "Now you can check your available ressources : "
      ],
      "metadata": {
        "id": "61fh6mTVYY5v"
      }
    },
    {
      "cell_type": "code",
      "source": [
        "ressources = ray.available_resources()"
      ],
      "metadata": {
        "id": "Mw-a8p-XYYIv"
      },
      "execution_count": null,
      "outputs": []
    },
    {
      "cell_type": "markdown",
      "source": [
        "Unless you already changed your runtime type, the default one has no GPU. If you want a GPU : you can change the runtime type in the settings (Also you need to rerun everything)"
      ],
      "metadata": {
        "id": "PWm6AH2LYvoK"
      }
    },
    {
      "cell_type": "markdown",
      "source": [
        "## Remote\n"
      ],
      "metadata": {
        "id": "mawZyiHFZppS"
      }
    },
    {
      "cell_type": "markdown",
      "source": [
        "Let's start with a simple example which make sense in an industrial context : let's create a function that counts up to n and check how long does it take to execute 2 times"
      ],
      "metadata": {
        "id": "JSjRhCvdtUqG"
      }
    },
    {
      "cell_type": "code",
      "source": [
        "import time \n",
        "\n",
        "def usefull(n):\n",
        "  count=0\n",
        "  for _ in range(n):\n",
        "    count+=1\n",
        "  return count\n",
        "\n",
        "n=int(4e8)\n",
        "t0=time.time()\n",
        "[usefull(n) for k in range(2)]\n",
        "print(\"It takes {}s to count 2 times up to {} without ray\".format(time.time()-t0,n))\n"
      ],
      "metadata": {
        "id": "93f-zkm6bAVg",
        "colab": {
          "base_uri": "https://localhost:8080/"
        },
        "outputId": "ba4faf1c-9e53-4378-da38-a5c6987f659e"
      },
      "execution_count": null,
      "outputs": [
        {
          "output_type": "stream",
          "name": "stdout",
          "text": [
            "It takes 54.42615342140198s to count 2 times up to 400000000 without ray\n"
          ]
        }
      ]
    },
    {
      "cell_type": "markdown",
      "source": [
        "Now with ray :"
      ],
      "metadata": {
        "id": "ZFfxZ4NTDq1J"
      }
    },
    {
      "cell_type": "code",
      "source": [
        "@ray.remote\n",
        "def usefull(n):\n",
        "  count=0\n",
        "  for _ in range(n):\n",
        "    count+=1\n",
        "  return count\n",
        "\n",
        "n=int(4e8)\n",
        "t0=time.time()\n",
        "ray.get([usefull.remote(n) for k in range(2)])\n",
        "print(\"It takes {}s to count 2 times up to {} with ray\".format(time.time()-t0,n))"
      ],
      "metadata": {
        "colab": {
          "base_uri": "https://localhost:8080/"
        },
        "id": "hERvaoyZDuj-",
        "outputId": "9d655d55-449c-4c16-febf-d01918dec0fd"
      },
      "execution_count": null,
      "outputs": [
        {
          "output_type": "stream",
          "name": "stdout",
          "text": [
            "It takes 44.52190375328064s to count 2 times up to 400000000 with ray\n"
          ]
        }
      ]
    },
    {
      "cell_type": "markdown",
      "source": [
        "Ok it's faster. Unfortunately we can't see the clear advantages of using ray core because on Colab we have only 2 cores. But you get the idea.\n",
        "Also, it makes sense to use ray when the task at hand consumes more resources than the cost of setting up ray."
      ],
      "metadata": {
        "id": "GJTwiZR2EkBB"
      }
    },
    {
      "cell_type": "markdown",
      "source": [
        "## Serialization\n",
        "\n",
        "To better understand how Ray works you need to understand its [key concepts](https://docs.ray.io/en/latest/ray-core/key-concepts.html) \n",
        "Basically there are three concepts : \n",
        "\n",
        "* Tasks (which we just saw)\n",
        "* Actors (allowing to distribute classes and their methods)\n",
        "* Objects (allowing to distribute any object so that it can be called from any node)"
      ],
      "metadata": {
        "id": "tvc2w6wu2Ui6"
      }
    },
    {
      "cell_type": "code",
      "source": [
        "y=1\n",
        "y_obj=ray.put(y)\n",
        "print('obj ref : ', y_obj)\n",
        "print('obj value : ', ray.get(y_obj))"
      ],
      "metadata": {
        "colab": {
          "base_uri": "https://localhost:8080/"
        },
        "id": "VoQGG60J21zT",
        "outputId": "81640773-e9dd-4f1e-de83-35ae9e4bd465"
      },
      "execution_count": null,
      "outputs": [
        {
          "output_type": "stream",
          "name": "stdout",
          "text": [
            "obj ref :  ObjectRef(00ffffffffffffffffffffffffffffffffffffff0100000002000000)\n",
            "obj value :  1\n"
          ]
        }
      ]
    },
    {
      "cell_type": "markdown",
      "source": [
        "Ray uses [cloudpickle](https://github.com/cloudpipe/cloudpickle) with which you can serialize **almost** anything. \n",
        "Now let's say you to want to use ray to distribute the training of your agent on a custom environment which call Unity for example. \n",
        "You won't be able to serialize the environment. "
      ],
      "metadata": {
        "id": "QrpuMSwh2qEw"
      }
    },
    {
      "cell_type": "code",
      "source": [
        "import sqlite3\n",
        "class Env:\n",
        "    def __init__(self, path):\n",
        "        self.path = path\n",
        "        self.conn = sqlite3.connect(path) #this can't be serialized\n",
        "\n",
        "original = Env(\"/tmp/db\")\n",
        "ray_obj = ray.get(ray.put(original))"
      ],
      "metadata": {
        "id": "SHQCemdaLhYO"
      },
      "execution_count": null,
      "outputs": []
    },
    {
      "cell_type": "markdown",
      "source": [
        "To enable the serialization, you need to provide ray with the serializable data needed to rebuilt the object on another node. This is done with __reduce__."
      ],
      "metadata": {
        "id": "k2iZIjbXMHkR"
      }
    },
    {
      "cell_type": "code",
      "source": [
        "import sqlite3\n",
        "class Env:\n",
        "    def __init__(self, path):\n",
        "        self.path = path\n",
        "        self.conn = sqlite3.connect(path) #this can't be serialized\n",
        "\n",
        "    def __reduce__(self):\n",
        "        deserializer = Env\n",
        "        serialized_data = (self.path,)\n",
        "        return deserializer, serialized_data\n",
        "\n",
        "original = Env(\"/tmp/db\")\n",
        "ray_obj = ray.get(ray.put(original))"
      ],
      "metadata": {
        "id": "AODt1DUUMeGT"
      },
      "execution_count": null,
      "outputs": []
    },
    {
      "cell_type": "markdown",
      "source": [
        "## Ray on HPC\n",
        "\n",
        "As you can see ray is really simple and it allows you distribute efficiently your code with no major changes. \n",
        "The most outstanding thing is that once you have designed your code to integrate Ray, there is almost nothing to do to run it on an HPC. So you can forget about abominations like MPI.\n",
        "Unfortunately we won't have time to run the example (This part is just to let you know that this feature exists).\n",
        "If you want to run basic example on Pando, here is all you need : \n",
        "\n",
        "Doc for running on [ AWS clursters ](https://docs.ray.io/en/latest/cluster/vms/user-guides/launching-clusters/index.html).\n",
        "\n",
        "Doc for running on [Slurm](https://docs.ray.io/en/latest/cluster/vms/user-guides/community/slurm.html)."
      ],
      "metadata": {
        "id": "bGe3hQiBZ1Tr"
      }
    },
    {
      "cell_type": "markdown",
      "source": [
        "# Ray librairies overview\n",
        "\n",
        "Unfortunately we won't have time to discover in depth all the librairies.\n",
        "Here is a brief summary of the capabilities of these libraries\n",
        "\n",
        "## Ray Data\n",
        "\n",
        "Ray Data is a library for building distributed data pipelines with Ray. It provides a high-level interface for defining and executing data processing tasks, as well as tools for managing the lifecycle of those tasks. \n",
        "Ray Datasets also simplify general purpose parallel GPU and CPU compute in Ray; for instance, for GPU batch inference. They provide a higher-level API for Ray tasks and actors for such embarrassingly parallel compute, internally handling operations like batching, pipelining, and memory management.\n",
        "\n",
        "Usefull link : [Processing NYC taxi data using Ray Datasets](https://docs.ray.io/en/latest/data/examples/nyc_taxi_basic_processing.html)\n",
        "\n",
        "## Ray Train \n",
        "Ray Train scales model training for popular ML frameworks such as Torch, XGBoost, TensorFlow, and more. It seamlessly integrates with other Ray libraries such as Tune:\n",
        "<p align=\"center\">\n",
        "<img src=\"https://docs.ray.io/en/latest/_images/train-specific.svg\" alt=\"drawing\" width=\"600\" />\n",
        "</p> \n",
        "\n",
        "Here is the [Quick Start](https://docs.ray.io/en/latest/train/train.html#quick-start)\n",
        "\n",
        "## Ray Tune\n",
        "Ray Tune is a library that allows you to perform an optimal hyperparameter search for a given training. Indeed, not only this library allows to realize these evaluations in a distributed way but it also allows to improve this research with state-of-the-art algos like bayesian optimization.\n",
        "Here is the [Quick start](https://docs.ray.io/en/latest/tune/getting-started.html#tune-tutorial)"
      ],
      "metadata": {
        "id": "2q1F0YW7Mtsu"
      }
    },
    {
      "cell_type": "markdown",
      "source": [
        "# RLlib\n",
        "<p align=\"center\">\n",
        "<img src=\"https://docs.ray.io/en/latest/_images/rllib-logo.png\" alt=\"drawing\" width=\"300\" />\n",
        "</p> \n",
        "\n",
        "## RLlib overview\n",
        "\n",
        "RLlib Algorithm classes coordinate the distributed workflow of running rollouts and optimizing policies. Algorithm classes leverage parallel iterators to implement the desired computation pattern. The following figure shows synchronous sampling, the simplest of these patterns:\n",
        "\n",
        "<p align=\"center\">\n",
        "<img src=\"https://docs.ray.io/en/latest/_images/a2c-arch.svg\" alt=\"drawing\" width=\"600\" />\n",
        "</p> \n",
        "\n",
        "## First Training\n",
        "Let's install everything so that we can use [gym](https://www.gymlibrary.dev/) properly."
      ],
      "metadata": {
        "id": "u8Vt1ZFVltXI"
      }
    },
    {
      "cell_type": "code",
      "source": [
        "!pip install gym pyvirtualdisplay > /dev/null 2>&1\n",
        "!apt-get install -y xvfb python-opengl ffmpeg > /dev/null 2>&1\n",
        "!apt-get update > /dev/null 2>&1\n",
        "!apt-get install cmake > /dev/null 2>&1\n",
        "!pip install --upgrade setuptools 2>&1\n",
        "!pip install ez_setup > /dev/null 2>&1\n",
        "!pip install gym > /dev/null 2>&1\n",
        "!pip install gym[classic_control] > /dev/null 2>&1\n"
      ],
      "metadata": {
        "colab": {
          "base_uri": "https://localhost:8080/"
        },
        "id": "9xNdyKC3uI5A",
        "outputId": "25862cea-efbe-4cd8-bd11-9bb901ab3ff2"
      },
      "execution_count": null,
      "outputs": [
        {
          "output_type": "stream",
          "name": "stdout",
          "text": [
            "Looking in indexes: https://pypi.org/simple, https://us-python.pkg.dev/colab-wheels/public/simple/\n",
            "Requirement already satisfied: setuptools in /usr/local/lib/python3.8/dist-packages (57.4.0)\n",
            "Collecting setuptools\n",
            "  Downloading setuptools-66.1.1-py3-none-any.whl (1.3 MB)\n",
            "\u001b[2K     \u001b[90m━━━━━━━━━━━━━━━━━━━━━━━━━━━━━━━━━━━━━━━━\u001b[0m \u001b[32m1.3/1.3 MB\u001b[0m \u001b[31m30.9 MB/s\u001b[0m eta \u001b[36m0:00:00\u001b[0m\n",
            "\u001b[?25hInstalling collected packages: setuptools\n",
            "  Attempting uninstall: setuptools\n",
            "    Found existing installation: setuptools 57.4.0\n",
            "    Uninstalling setuptools-57.4.0:\n",
            "      Successfully uninstalled setuptools-57.4.0\n",
            "\u001b[31mERROR: pip's dependency resolver does not currently take into account all the packages that are installed. This behaviour is the source of the following dependency conflicts.\n",
            "ipython 7.9.0 requires jedi>=0.10, which is not installed.\n",
            "cvxpy 1.2.3 requires setuptools<=64.0.2, but you have setuptools 66.1.1 which is incompatible.\u001b[0m\u001b[31m\n",
            "\u001b[0mSuccessfully installed setuptools-66.1.1\n"
          ]
        }
      ]
    },
    {
      "cell_type": "code",
      "source": [
        "!git clone https://github.com/Paul-antoineLeTolguenec/ray_course.git"
      ],
      "metadata": {
        "colab": {
          "base_uri": "https://localhost:8080/"
        },
        "id": "QfmmmApBn6sI",
        "outputId": "f645bcb4-24c6-4f30-f229-e7c059447392"
      },
      "execution_count": null,
      "outputs": [
        {
          "output_type": "stream",
          "name": "stdout",
          "text": [
            "Cloning into 'ray_course'...\n",
            "remote: Enumerating objects: 9, done.\u001b[K\n",
            "remote: Counting objects: 100% (9/9), done.\u001b[K\n",
            "remote: Compressing objects: 100% (7/7), done.\u001b[K\n",
            "remote: Total 9 (delta 2), reused 8 (delta 1), pack-reused 0\u001b[K\n",
            "Unpacking objects: 100% (9/9), 3.36 KiB | 3.36 MiB/s, done.\n"
          ]
        }
      ]
    },
    {
      "cell_type": "markdown",
      "source": [
        "### Environment "
      ],
      "metadata": {
        "id": "2Pe1yF0O2W_-"
      }
    },
    {
      "cell_type": "code",
      "source": [
        "from pyvirtualdisplay import Display\n",
        "import pygame\n",
        "import gym\n",
        "from gym import logger as gymlogger\n",
        "from ray_course.gym_recorder import *\n",
        "gymlogger.set_level(40) #error only\n",
        "display = Display(visible=0, size=(1400, 900)) #display\n",
        "display.start()\n",
        "env=wrap_env(gym.make('CartPole-v1')) #env\n",
        "# rollout\n",
        "s = env.reset()\n",
        "d=False\n",
        "while not d:\n",
        "    env.render('rgb_array')\n",
        "    a = env.action_space.sample() \n",
        "    s, r, d, i = env.step(a) \n",
        "env.close()\n",
        "show_video()"
      ],
      "metadata": {
        "colab": {
          "base_uri": "https://localhost:8080/",
          "height": 421
        },
        "id": "wtp-QWVGxFFX",
        "outputId": "8fb3da36-29bc-49b0-9c5d-8a54f9e72477"
      },
      "execution_count": null,
      "outputs": [
        {
          "output_type": "display_data",
          "data": {
            "text/plain": [
              "<IPython.core.display.HTML object>"
            ],
            "text/html": [
              "<video alt=\"test\" autoplay \n",
              "                loop controls style=\"height: 400px;\">\n",
              "                <source src=\"data:video/mp4;base64,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\" type=\"video/mp4\" />\n",
              "             </video>"
            ]
          },
          "metadata": {}
        }
      ]
    },
    {
      "cell_type": "markdown",
      "source": [
        "### PPO training"
      ],
      "metadata": {
        "id": "3Vxw4KJq2eoj"
      }
    },
    {
      "cell_type": "markdown",
      "source": [
        "First let's import our algorithm ([PPO](https://arxiv.org/abs/1707.06347)), define the hyper-parameters in the CONFIG dict and train it :"
      ],
      "metadata": {
        "id": "qtGf8nGo2pzk"
      }
    },
    {
      "cell_type": "code",
      "source": [
        "ray.shutdown()"
      ],
      "metadata": {
        "id": "-UuLbGayQHat"
      },
      "execution_count": null,
      "outputs": []
    },
    {
      "cell_type": "code",
      "source": [
        "from ray.rllib.algorithms.ppo import PPO\n",
        "from ray.tune.logger import pretty_print\n",
        "import ray \n",
        "\n",
        "ray.init() #re-init\n",
        "CONFIG = {\n",
        "    #COMON config\n",
        "\t\t\"env\": 'CartPole-v1',\n",
        "\t\t# \"env_config\": ENV_CONFIG,\n",
        "\t\t\"num_gpus\": 0,\n",
        "\t\t\"num_workers\": 1, # int(ressources['CPU'])\n",
        "    \"gamma\": 0.95,\n",
        "\t\t\"explore\": True,\n",
        "\t\t\"exploration_config\": {\n",
        "\t\t\t\"type\": \"StochasticSampling\",\n",
        "\t\t},\n",
        "    'reuse_actors':True,\n",
        "    \"framework\": \"tf2\", #I prefer tensorflow but feel free to use pytorch\n",
        "    # PPO config\n",
        "    \"use_critic\": True,\n",
        "    \"use_gae\": True,\n",
        "    \"lambda\": 1,\n",
        "    \"kl_coeff\": 0.2,\n",
        "    \"rollout_fragment_length\":1024,\n",
        "    \"train_batch_size\": 1024,\n",
        "    \"sgd_minibatch_size\": 64,\n",
        "    \"shuffle_sequences\": True,\n",
        "    \"num_sgd_iter\": 16,\n",
        "    \"lr\": 1e-3,\n",
        "    \"lr_schedule\": None,\n",
        "    \"vf_loss_coeff\": 1.0,\n",
        "    \"model\": {\n",
        "        \"vf_share_layers\": False,\n",
        "    },\n",
        "    \"entropy_coeff\": 0.0,\n",
        "    \"entropy_coeff_schedule\": None,\n",
        "    \"clip_param\": 0.4,\n",
        "    \"vf_clip_param\": 10.0,\n",
        "    \"grad_clip\": None,\n",
        "    \"kl_target\": 0.01,\n",
        "    \"batch_mode\": \"truncate_episodes\",\n",
        "    \"observation_filter\": \"NoFilter\"\n",
        "\t}\n",
        "algo = PPO(config=CONFIG)\n",
        "for k in range(30):\n",
        "\tresult=algo.train()\n",
        "\tprint('epoch : ',k)\n",
        "    # print(pretty_print(result))\n",
        " \n",
        "checkpoint_dir = algo.save() #save the model \n",
        "print(f\"Checkpoint saved in directory {checkpoint_dir}\") \n",
        "ray.shutdown()"
      ],
      "metadata": {
        "id": "MK3oqsT72kDN"
      },
      "execution_count": null,
      "outputs": []
    },
    {
      "cell_type": "markdown",
      "source": [
        "Now let's eval the result."
      ],
      "metadata": {
        "id": "HNXKgwtnzI4x"
      }
    },
    {
      "cell_type": "code",
      "source": [
        "import numpy as np\n",
        "from pyvirtualdisplay import Display\n",
        "import gym\n",
        "from ray.rllib.algorithms.algorithm import Algorithm\n",
        "# Load the checkpoint \n",
        "algo = Algorithm.from_checkpoint(checkpoint_dir)\n",
        "# Eval\n",
        "display = Display(visible=0, size=(1400, 900)) #display\n",
        "display.start()\n",
        "env = gym.make('CartPole-v1')\n",
        "policy=algo.get_policy()\n",
        "episode_reward = 0\n",
        "d = False\n",
        "s = env.reset()\n",
        "while not d:\n",
        "    env.render('rgb_array')\n",
        "    logits,_= policy.model({'obs': np.expand_dims(s,axis=0)})\n",
        "    a=np.argmax(logits)\n",
        "    s,r,d,i= env.step(a)\n",
        "    episode_reward += r\n",
        "env.close()\n",
        "show_video()"
      ],
      "metadata": {
        "colab": {
          "base_uri": "https://localhost:8080/",
          "height": 667
        },
        "id": "vE5AM7_jLF-0",
        "outputId": "9bb88cb8-ad78-4eb7-87a1-8663f03b8446"
      },
      "execution_count": null,
      "outputs": [
        {
          "output_type": "stream",
          "name": "stderr",
          "text": [
            "\u001b[2m\u001b[36m(pid=138126)\u001b[0m /usr/local/lib/python3.8/dist-packages/flatbuffers/compat.py:19: DeprecationWarning: the imp module is deprecated in favour of importlib; see the module's documentation for alternative uses\n",
            "\u001b[2m\u001b[36m(pid=138126)\u001b[0m   import imp\n",
            "\u001b[2m\u001b[36m(pid=138126)\u001b[0m 2023-01-11 15:25:27,792\tWARNING compression.py:16 -- lz4 not available, disabling sample compression. This will significantly impact RLlib performance. To install lz4, run `pip install lz4`.\n",
            "\u001b[2m\u001b[36m(pid=138126)\u001b[0m /usr/local/lib/python3.8/dist-packages/tensorflow_probability/python/__init__.py:57: DeprecationWarning: distutils Version classes are deprecated. Use packaging.version instead.\n",
            "\u001b[2m\u001b[36m(pid=138126)\u001b[0m   if (distutils.version.LooseVersion(tf.__version__) <\n",
            "\u001b[2m\u001b[36m(RolloutWorker pid=138126)\u001b[0m /usr/local/lib/python3.8/dist-packages/gym/envs/registration.py:593: UserWarning: \u001b[33mWARN: The environment CartPole-v0 is out of date. You should consider upgrading to version `v1`.\u001b[0m\n",
            "\u001b[2m\u001b[36m(RolloutWorker pid=138126)\u001b[0m   logger.warn(\n",
            "\u001b[2m\u001b[36m(RolloutWorker pid=138126)\u001b[0m /usr/local/lib/python3.8/dist-packages/gym/core.py:317: DeprecationWarning: \u001b[33mWARN: Initializing wrapper in old step API which returns one bool instead of two. It is recommended to set `new_step_api=True` to use new step API. This will be the default behaviour in future.\u001b[0m\n",
            "\u001b[2m\u001b[36m(RolloutWorker pid=138126)\u001b[0m   deprecation(\n",
            "\u001b[2m\u001b[36m(RolloutWorker pid=138126)\u001b[0m /usr/local/lib/python3.8/dist-packages/gym/wrappers/step_api_compatibility.py:39: DeprecationWarning: \u001b[33mWARN: Initializing environment in old step API which returns one bool instead of two. It is recommended to set `new_step_api=True` to use new step API. This will be the default behaviour in future.\u001b[0m\n",
            "\u001b[2m\u001b[36m(RolloutWorker pid=138126)\u001b[0m   deprecation(\n",
            "\u001b[2m\u001b[36m(RolloutWorker pid=138126)\u001b[0m 2023-01-11 15:25:28,808\tWARNING env.py:159 -- Your env reset() method appears to take 'seed' or 'return_info' arguments. Note that these are not yet supported in RLlib. Seeding will take place using 'env.seed()' and the info dict will not be returned from reset.\n",
            "2023-01-11 15:25:29,450\tWARNING util.py:66 -- Install gputil for GPU system monitoring.\n"
          ]
        },
        {
          "output_type": "display_data",
          "data": {
            "text/plain": [
              "<IPython.core.display.HTML object>"
            ],
            "text/html": [
              "<video alt=\"test\" autoplay \n",
              "                loop controls style=\"height: 400px;\">\n",
              "                <source src=\"data:video/mp4;base64,AAAAIGZ0eXBpc29tAAACAGlzb21pc28yYXZjMW1wNDEAAAAIZnJlZQAADtptZGF0AAACrgYF//+q3EXpvebZSLeWLNgg2SPu73gyNjQgLSBjb3JlIDE1MiByMjg1NCBlOWE1OTAzIC0gSC4yNjQvTVBFRy00IEFWQyBjb2RlYyAtIENvcHlsZWZ0IDIwMDMtMjAxNyAtIGh0dHA6Ly93d3cudmlkZW9sYW4ub3JnL3gyNjQuaHRtbCAtIG9wdGlvbnM6IGNhYmFjPTEgcmVmPTMgZGVibG9jaz0xOjA6MCBhbmFseXNlPTB4MzoweDExMyBtZT1oZXggc3VibWU9NyBwc3k9MSBwc3lfcmQ9MS4wMDowLjAwIG1peGVkX3JlZj0xIG1lX3JhbmdlPTE2IGNocm9tYV9tZT0xIHRyZWxsaXM9MSA4eDhkY3Q9MSBjcW09MCBkZWFkem9uZT0yMSwxMSBmYXN0X3Bza2lwPTEgY2hyb21hX3FwX29mZnNldD0tMiB0aHJlYWRzPTMgbG9va2FoZWFkX3RocmVhZHM9MSBzbGljZWRfdGhyZWFkcz0wIG5yPTAgZGVjaW1hdGU9MSBpbnRlcmxhY2VkPTAgYmx1cmF5X2NvbXBhdD0wIGNvbnN0cmFpbmVkX2ludHJhPTAgYmZyYW1lcz0zIGJfcHlyYW1pZD0yIGJfYWRhcHQ9MSBiX2JpYXM9MCBkaXJlY3Q9MSB3ZWlnaHRiPTEgb3Blbl9nb3A9MCB3ZWlnaHRwPTIga2V5aW50PTI1MCBrZXlpbnRfbWluPTI1IHNjZW5lY3V0PTQwIGludHJhX3JlZnJlc2g9MCByY19sb29rYWhlYWQ9NDAgcmM9Y3JmIG1idHJlZT0xIGNyZj0yMy4wIHFjb21wPTAuNjAgcXBtaW49MCBxcG1heD02OSBxcHN0ZXA9NCBpcF9yYXRpbz0xLjQwIGFxPTE6MS4wMACAAAACQ2WIhAAz//727L4FNf2f0JcRLMXaSnA+KqSAgHc0wAAAAwAAAwAAFgn0I7DkqgN3QAAAHGAFBCwCPCVC2EhH2OkN/wOssgKDXb55W8DYf2cIm089hVMEovNK1CxwApK0JdooFOpbWEajw/XOsKZJUIQQXBSq0ivBxt5SG0JQ+jQsPFvHfkEuU7txxGqA4Tjd/CoAGNDNt/CAoIfuad9YFALgAjLHFOBeMMC/LgI5wit4pQ0dEitGyXPjRWsP9G53h0B6xiICNr6Ivb7JuLLtQf23yXXsMrICOfRNSdAKxU6JgHn+3bl8s39g18OegLM9U6avgHBw0bbKhZiv+LBe3mm3QOASM3zqK2chuAE7+bbX/Ldwls35/zGgzRu49t1LT/N6avnPjIVbxecMvl0voBJJkD3URxze3e+RKNAXKzrSTHTc6IQHrti5dBdcms+1lzUthZLOB28FYDF9QuHomtjK6xYzaZbiejPBZcBKVo2Hw4GhyLRU/XsZSymehewnWnQcS6N67VptT9ELhzCAFzSzUEtJFyTYAF0SnTbJz/iZ3XjlYiowjH4rg4WUAwyGoOXlBFMbsLiJ/mHGwC6qEchvP/ZpAmkf5KaqA8NYqQVO+ofKmo147UewHix3/BfjuO7VkJtYjfXpZl73PnTdsiAmJozS+pcT7uk+gDA0VrCDLzclOo73kwwj9hRk032oPPVX+FgahCovNxpm66Nt4RRwe+/ixDi+ov3PoR5CBhgMD7lrW1Bqff0TRwAAAwAAAwABswAAAJ5BmiRsQz/+nhAAABpd731IAbYgmAeremVtMbK8r8M96N2zzj87wWEEeMKeE+g7X+15rxvjod+fLooPebUkdjOy/Fn3H7a3oTLVn3B1dvPTrVoS2NJX1RN1uYZHT2dLT/d4vFLE/VqQHRHZLTtWJTSgEb/zYVNtr0pvV+PfhYfJt9TrWzhgHtfmpWtLldhvxGIVxsk4EQ/QsIKWBNjeEgAAACdBnkJ4hH8AAAhr+ucWG7qFnuknUATl3Opq+Z+dKdbhVnMsF2OygIEAAAAgAZ5hdEf/AAANNe0+VzTkGTOwfBTmNo8CCmtuIIs56MAAAAAaAZ5jakf/AAADALFmpLUSw7lzMf/+jQSAyfMAAAA0QZpoSahBaJlMCGf//p4QAAADABPfVwai8ExBmonEAA2RZchreS3Q4ePcIIkkncpliUDHgQAAAC1BnoZFESwj/wAACHBRzxJtG+7lBOS2ESSN5A48ev9aKGUCLkAnFLSATMwZTZkAAAAbAZ6ldEf/AAANhe03HCN06UljbTgj1cW1OwbpAAAAHAGep2pH/wAADTSen3egc9ZurohsL9Ad9mmWA5IAAABjQZqsSahBbJlMCGf//p4QAAAaWnEQAVvfnZuOnvdZnFz5LV2n1kquj7EZ7Rhfg0gvt2qUwdBaXTtZ7RuuhFq3EW3JxuR7Rx9FM74yrhckeDF1gLcGEzH6rYp9gczZ1gQLYTWAAAAAJ0GeykUVLCP/AAAIMU+48hDnKRlsVTyh9KfyXHTawDjzYdBGO41bcQAAABsBnul0R/8AAA2F7TccI3TsKaiVMZgYXRASZyQAAAAcAZ7rakf/AAANf7aNt9fxkl6IzIn127GZ5JH5yQAAAFVBmvBJqEFsmUwIX//+jLAAAEYC9ljj1B6uwBTZpbjq1OaxlKmF8HrUX4nV7j4S8WPWrVryQ+DLNRprAyFsxdLzWxntWua+0jTe4l79WJnok9DL5W7DAAAAOkGfDkUVLCP/AAAWtSs4uXwJCHxvVVKvQZ1NMIAidPh1PsG1gkCdr2ZsVGXHQ26EepN2TY3NGBAK24EAAAAdAZ8tdEf/AAAjq/hbeBKdaCOIEenLgIO0ktKbSo0AAAAZAZ8vakf/AAANhJ2qS/ibjqYcEH0ayn+DgAAAAEVBmzRJqEFsmUwIX//+jLAAAEZ7EuWjIBY+Qkg9fTGSLAQTAwrfRIYidxV7DW9vWXDYfaIEIlT8x5/yfQJTqhvKz86aGMAAAAAwQZ9SRRUsI/8AABa8Q823FeLlVoDFfvqh2IoaufjsSbfqModncz/6KhdjBg5fxn8HAAAAGwGfcXRH/wAABRxSa5twWHOGKRvUqD21h0FkmAAAABgBn3NqR/8AACOxzAlvqW+yEIY9M1jnkDAAAABoQZt3SahBbJlMCF///oywAABGem8932XB7LXwYttRLliKMARFkaC9CNS/uubWNHmkID5RxUOU8jk0cp8gZvFYry2/JXYHpOp5PwrHHcQzuDJ0x6WL2fbtgf68RhK956xZB3KdS2b0WgkAAAAtQZ+VRRUsI/8AABa1JuOZXGf14RR/CKTnXXTwpNSbwACGWXmwjsqSppASKYmDAAAAKgGftmpH/wAAIr8Y1idglfgcp48iHzPSDUis9ggUn3S+OXTP/H+NJvJ+DwAAAGtBm7tJqEFsmUwIX//+jLAAAEQC9/mMl3L0qUdDgaAHIZ8uZcxzCR3B6/PScY1OajwG1VyUs0YsA06g8P38IPd+qKrQEsDg5PecCzGmwMbvrqe1GnRXndP153zYzwNW00IH16q8y6sAdkV02QAAACRBn9lFFSwj/wAAFixNfUNeaOPvqJn4KPgcbyKbtpXmQnYkLZgAAAAbAZ/4dEf/AAANNeuIsbXEem5wnPMaFyR9Ac5JAAAAKAGf+mpH/wAAIr8ZRY8vlQsfGYOJCCr7hYkirKC1YQeRIxMxPO3E8GAAAACCQZv+SahBbJlMCF///oywAABEAgX+KMy6zyAALa1YKb9GSLzUCQUdAyiEJZqBvDbczTXBKprExd2jfru+FNVJT4cPazf+QQ7U1N7Ws772ewALdEpZ3CtA5O3RqXQce2/XcvoII3vnVeFEYjuEQrLMjD7UB8u9/X/IIIglBdb44g45UQAAADJBnhxFFSwj/wAAFiuUkorrSKpcDJP+vLfktqkrQ6dDp3KPja3ZwUx0YMz+TUKUgT7bMQAAACQBnj1qR/8AACI90wOffzkdYMUdSNetc0jE3SsckFt/NGfggIAAAACYQZoiSahBbJlMCFf//jhAAAEE80JKwAjA5tHe2WhCSgVU6QweGGjWWNQQ7uJpi26fbLHoDgd0BeK8adXhlqiSWZJlvghdRNSzEq2x4zuo+FUWYF+n7sIACfp1grSorDK7xokOr9xxmXwA+Qqypdj/Y3ZrFVNEh//++Ya8uFi1awxlNtq8syp+hEJ1ZXLs5SxRX/ob/QBrPDAAAABLQZ5ARRUsI/8AABYUtHajA9ShuktIKiw4sGJWtjhKGGhgwQ6rPE542keqQC+A8veRDJ4QAA46qfD2IDNYnfZMuFrdsWUiNu/BmU7dAAAALwGef3RH/wAAIqnOxZQPXCbp/FIpTHAbG3jTaG5YZ6UCfX6G5RGEH33bQBXXCN/gAAAAPAGeYWpH/wAAIq4x0aA99lT78NWyzrytam2eD1mxZjA1GvDgaCefzJY1/QAfthOKFmOBdhaV4+/6YjvBgQAAAKRBmmZJqEFsmUwIR//94QAAAwP1QN5yyNDOAFferoJYLtoB+g/xtiyXiE5ESvUV5OBMHQjeUSysDJwp6oD9p1mVkdCSIZaYJz3g8YG+2s3aVzfrxeRKCdlBpUnH2Ahu7Ws76mrIdd/EjMJqOFx3RjbOm9t4qOptTXG/6n2SNLN/EV3lfzjlWqLXaHyOzHw7W6Jco59XzGcbPuDYHnrazZ8P3fy82AAAAFNBnoRFFSwj/wAAFh0vdyMnESy3pN7xXFSa8ZSB0u9s3C6Bhhp3ZdsmQ+HnfKSPgnvHcWJOLCGEknCetqbQzSTv4EBiAFmZbISFn2u3kjoqKFu+DQAAAC0BnqN0R/8AACLAuODUDEg3aAAF/MVpFZxWwRGBOnVUK16v6uvfm0ITIGlj/HEAAABCAZ6lakf/AAAirjI1FdlPHbhVtDekhWQNdPAgHLG6cwuMf0zlXi08Mx/ZTxMiHRlIdwANn/RLKxe11lrxyKCTBHbhAAAAW0Gap0moQWyZTAj//IQAAA+XomEZXXqa9oGd1VUA4hGnK5S7EJDwE/hRUhtF/2GyKDrYuzG8nP8aFhpCab8BpEGtaAEJnDm/1zByzWrbpdUXFqv63MiFxRHChMEAAATjbW9vdgAAAGxtdmhkAAAAAAAAAAAAAAAAAAAD6AAAAyAAAQAAAQAAAAAAAAAAAAAAAAEAAAAAAAAAAAAAAAAAAAABAAAAAAAAAAAAAAAAAABAAAAAAAAAAAAAAAAAAAAAAAAAAAAAAAAAAAAAAAAAAgAABA10cmFrAAAAXHRraGQAAAADAAAAAAAAAAAAAAABAAAAAAAAAyAAAAAAAAAAAAAAAAAAAAAAAAEAAAAAAAAAAAAAAAAAAAABAAAAAAAAAAAAAAAAAABAAAAAAlgAAAGQAAAAAAAkZWR0cwAAABxlbHN0AAAAAAAAAAEAAAMgAAACAAABAAAAAAOFbWRpYQAAACBtZGhkAAAAAAAAAAAAAAAAAAAyAAAAKABVxAAAAAAALWhkbHIAAAAAAAAAAHZpZGUAAAAAAAAAAAAAAABWaWRlb0hhbmRsZXIAAAADMG1pbmYAAAAUdm1oZAAAAAEAAAAAAAAAAAAAACRkaW5mAAAAHGRyZWYAAAAAAAAAAQAAAAx1cmwgAAAAAQAAAvBzdGJsAAAAmHN0c2QAAAAAAAAAAQAAAIhhdmMxAAAAAAAAAAEAAAAAAAAAAAAAAAAAAAAAAlgBkABIAAAASAAAAAAAAAABAAAAAAAAAAAAAAAAAAAAAAAAAAAAAAAAAAAAAAAAAAAAGP//AAAAMmF2Y0MBZAAf/+EAGWdkAB+s2UCYM+XhAAADAAEAAAMAZA8YMZYBAAZo6+PLIsAAAAAYc3R0cwAAAAAAAAABAAAAKAAAAQAAAAAUc3RzcwAAAAAAAAABAAAAAQAAAUBjdHRzAAAAAAAAACYAAAABAAACAAAAAAEAAAUAAAAAAQAAAgAAAAABAAAAAAAAAAEAAAEAAAAAAQAABQAAAAABAAACAAAAAAEAAAAAAAAAAQAAAQAAAAABAAAFAAAAAAEAAAIAAAAAAQAAAAAAAAABAAABAAAAAAEAAAUAAAAAAQAAAgAAAAABAAAAAAAAAAEAAAEAAAAAAQAABQAAAAABAAACAAAAAAEAAAAAAAAAAQAAAQAAAAABAAAEAAAAAAIAAAEAAAAAAQAABQAAAAABAAACAAAAAAEAAAAAAAAAAQAAAQAAAAABAAAEAAAAAAIAAAEAAAAAAQAABQAAAAABAAACAAAAAAEAAAAAAAAAAQAAAQAAAAABAAAFAAAAAAEAAAIAAAAAAQAAAAAAAAABAAABAAAAAAEAAAIAAAAAHHN0c2MAAAAAAAAAAQAAAAEAAAAoAAAAAQAAALRzdHN6AAAAAAAAAAAAAAAoAAAE+QAAAKIAAAArAAAAJAAAAB4AAAA4AAAAMQAAAB8AAAAgAAAAZwAAACsAAAAfAAAAIAAAAFkAAAA+AAAAIQAAAB0AAABJAAAANAAAAB8AAAAcAAAAbAAAADEAAAAuAAAAbwAAACgAAAAfAAAALAAAAIYAAAA2AAAAKAAAAJwAAABPAAAAMwAAAEAAAACoAAAAVwAAADEAAABGAAAAXwAAABRzdGNvAAAAAAAAAAEAAAAwAAAAYnVkdGEAAABabWV0YQAAAAAAAAAhaGRscgAAAAAAAAAAbWRpcmFwcGwAAAAAAAAAAAAAAAAtaWxzdAAAACWpdG9vAAAAHWRhdGEAAAABAAAAAExhdmY1Ny44My4xMDA=\" type=\"video/mp4\" />\n",
              "             </video>"
            ]
          },
          "metadata": {}
        }
      ]
    },
    {
      "cell_type": "markdown",
      "source": [
        "Alternatively, you can use RLlib with the Ray Tune API in order to find the optimal hyperarameters of the algorithm for your specific benchmark :"
      ],
      "metadata": {
        "id": "_yMg8aTjzRkM"
      }
    },
    {
      "cell_type": "code",
      "source": [
        "import ray\n",
        "from ray.rllib.algorithms.ppo import PPOConfig\n",
        "from ray import air, tune\n",
        "ray.shutdown()\n",
        "ray.init()\n",
        "\n",
        "config = PPOConfig().training(lr= tune.grid_search([0.01, 0.001, 0.0001])).rollouts(num_rollout_workers=1).resources(num_gpus=0).environment(env=\"CartPole-v1\")\n",
        "\n",
        "tuner = tune.Tuner(\n",
        "    \"PPO\",\n",
        "    run_config=air.RunConfig(\n",
        "        stop={\"episode_reward_mean\": 500},\n",
        "        local_dir=\"./results\", \n",
        "        name=\"PPO\"\n",
        "    ),\n",
        "    param_space=config,\n",
        ")\n",
        "\n",
        "results = tuner.fit()\n",
        "\n",
        "# Get the best result based on a particular metric.\n",
        "best_result = results.get_best_result(metric=\"episode_reward_mean\", mode=\"max\")\n",
        "\n",
        "# Get the best checkpoint corresponding to the best result.\n",
        "best_checkpoint = best_result.checkpoint"
      ],
      "metadata": {
        "colab": {
          "base_uri": "https://localhost:8080/",
          "height": 763
        },
        "id": "fXnocDwv042a",
        "outputId": "d4dc6091-4edf-4d70-befa-2efa3db4c527"
      },
      "execution_count": null,
      "outputs": [
        {
          "output_type": "stream",
          "name": "stderr",
          "text": [
            "2023-01-11 14:17:24,192\tINFO worker.py:1538 -- Started a local Ray instance.\n"
          ]
        },
        {
          "output_type": "display_data",
          "data": {
            "text/plain": [
              "<IPython.core.display.HTML object>"
            ],
            "text/html": [
              "<div class=\"tuneStatus\">\n",
              "  <div style=\"display: flex;flex-direction: row\">\n",
              "    <div style=\"display: flex;flex-direction: column;\">\n",
              "      <h3>Tune Status</h3>\n",
              "      <table>\n",
              "<tbody>\n",
              "<tr><td>Current time:</td><td>2023-01-11 14:23:54</td></tr>\n",
              "<tr><td>Running for: </td><td>00:06:27.77        </td></tr>\n",
              "<tr><td>Memory:      </td><td>2.4/12.7 GiB       </td></tr>\n",
              "</tbody>\n",
              "</table>\n",
              "    </div>\n",
              "    <div class=\"vDivider\"></div>\n",
              "    <div class=\"systemInfo\">\n",
              "      <h3>System Info</h3>\n",
              "      Using FIFO scheduling algorithm.<br>Resources requested: 2.0/2 CPUs, 0/0 GPUs, 0.0/7.36 GiB heap, 0.0/3.68 GiB objects\n",
              "    </div>\n",
              "    \n",
              "  </div>\n",
              "  <div class=\"hDivider\"></div>\n",
              "  <div class=\"trialStatus\">\n",
              "    <h3>Trial Status</h3>\n",
              "    <table>\n",
              "<thead>\n",
              "<tr><th>Trial name                 </th><th>status  </th><th>loc              </th><th style=\"text-align: right;\">  iter</th><th style=\"text-align: right;\">  total time (s)</th><th style=\"text-align: right;\">    ts</th><th style=\"text-align: right;\">  reward</th><th style=\"text-align: right;\">  episode_reward_max</th><th style=\"text-align: right;\">  episode_reward_min</th><th style=\"text-align: right;\">  episode_len_mean</th></tr>\n",
              "</thead>\n",
              "<tbody>\n",
              "<tr><td>PPO_CartPole-v1_acc3c_00000</td><td>RUNNING </td><td>172.28.0.2:119661</td><td style=\"text-align: right;\">    27</td><td style=\"text-align: right;\">         361.184</td><td style=\"text-align: right;\">108000</td><td style=\"text-align: right;\">  138.08</td><td style=\"text-align: right;\">                 163</td><td style=\"text-align: right;\">                 117</td><td style=\"text-align: right;\">            138.08</td></tr>\n",
              "</tbody>\n",
              "</table>\n",
              "  </div>\n",
              "</div>\n",
              "<style>\n",
              ".tuneStatus {\n",
              "  color: var(--jp-ui-font-color1);\n",
              "}\n",
              ".tuneStatus .systemInfo {\n",
              "  display: flex;\n",
              "  flex-direction: column;\n",
              "}\n",
              ".tuneStatus td {\n",
              "  white-space: nowrap;\n",
              "}\n",
              ".tuneStatus .trialStatus {\n",
              "  display: flex;\n",
              "  flex-direction: column;\n",
              "}\n",
              ".tuneStatus h3 {\n",
              "  font-weight: bold;\n",
              "}\n",
              ".tuneStatus .hDivider {\n",
              "  border-bottom-width: var(--jp-border-width);\n",
              "  border-bottom-color: var(--jp-border-color0);\n",
              "  border-bottom-style: solid;\n",
              "}\n",
              ".tuneStatus .vDivider {\n",
              "  border-left-width: var(--jp-border-width);\n",
              "  border-left-color: var(--jp-border-color0);\n",
              "  border-left-style: solid;\n",
              "  margin: 0.5em 1em 0.5em 1em;\n",
              "}\n",
              "</style>\n"
            ]
          },
          "metadata": {}
        },
        {
          "output_type": "stream",
          "name": "stderr",
          "text": [
            "\u001b[2m\u001b[36m(pid=119661)\u001b[0m /usr/local/lib/python3.8/dist-packages/flatbuffers/compat.py:19: DeprecationWarning: the imp module is deprecated in favour of importlib; see the module's documentation for alternative uses\n",
            "\u001b[2m\u001b[36m(pid=119661)\u001b[0m   import imp\n",
            "\u001b[2m\u001b[36m(pid=119661)\u001b[0m 2023-01-11 14:17:34,229\tWARNING compression.py:16 -- lz4 not available, disabling sample compression. This will significantly impact RLlib performance. To install lz4, run `pip install lz4`.\n",
            "\u001b[2m\u001b[36m(pid=119661)\u001b[0m /usr/local/lib/python3.8/dist-packages/tensorflow_probability/python/__init__.py:57: DeprecationWarning: distutils Version classes are deprecated. Use packaging.version instead.\n",
            "\u001b[2m\u001b[36m(pid=119661)\u001b[0m   if (distutils.version.LooseVersion(tf.__version__) <\n",
            "\u001b[2m\u001b[36m(PPO pid=119661)\u001b[0m 2023-01-11 14:17:35,162\tWARNING algorithm_config.py:488 -- Cannot create PPOConfig from given `config_dict`! Property __stdout_file__ not supported.\n",
            "\u001b[2m\u001b[36m(PPO pid=119661)\u001b[0m 2023-01-11 14:17:35,162\tINFO algorithm_config.py:2503 -- Your framework setting is 'tf', meaning you are using static-graph mode. Set framework='tf2' to enable eager execution with tf2.x. You may also then want to set eager_tracing=True in order to reach similar execution speed as with static-graph mode.\n",
            "\u001b[2m\u001b[36m(PPO pid=119661)\u001b[0m 2023-01-11 14:17:35,639\tINFO algorithm.py:501 -- Current log_level is WARN. For more information, set 'log_level': 'INFO' / 'DEBUG' or use the -v and -vv flags.\n",
            "\u001b[2m\u001b[36m(pid=119743)\u001b[0m /usr/local/lib/python3.8/dist-packages/flatbuffers/compat.py:19: DeprecationWarning: the imp module is deprecated in favour of importlib; see the module's documentation for alternative uses\n",
            "\u001b[2m\u001b[36m(pid=119743)\u001b[0m   import imp\n",
            "\u001b[2m\u001b[36m(pid=119743)\u001b[0m 2023-01-11 14:17:42,895\tWARNING compression.py:16 -- lz4 not available, disabling sample compression. This will significantly impact RLlib performance. To install lz4, run `pip install lz4`.\n",
            "\u001b[2m\u001b[36m(pid=119743)\u001b[0m /usr/local/lib/python3.8/dist-packages/tensorflow_probability/python/__init__.py:57: DeprecationWarning: distutils Version classes are deprecated. Use packaging.version instead.\n",
            "\u001b[2m\u001b[36m(pid=119743)\u001b[0m   if (distutils.version.LooseVersion(tf.__version__) <\n",
            "\u001b[2m\u001b[36m(RolloutWorker pid=119743)\u001b[0m /usr/local/lib/python3.8/dist-packages/gym/core.py:317: DeprecationWarning: \u001b[33mWARN: Initializing wrapper in old step API which returns one bool instead of two. It is recommended to set `new_step_api=True` to use new step API. This will be the default behaviour in future.\u001b[0m\n",
            "\u001b[2m\u001b[36m(RolloutWorker pid=119743)\u001b[0m   deprecation(\n",
            "\u001b[2m\u001b[36m(RolloutWorker pid=119743)\u001b[0m /usr/local/lib/python3.8/dist-packages/gym/wrappers/step_api_compatibility.py:39: DeprecationWarning: \u001b[33mWARN: Initializing environment in old step API which returns one bool instead of two. It is recommended to set `new_step_api=True` to use new step API. This will be the default behaviour in future.\u001b[0m\n",
            "\u001b[2m\u001b[36m(RolloutWorker pid=119743)\u001b[0m   deprecation(\n",
            "\u001b[2m\u001b[36m(RolloutWorker pid=119743)\u001b[0m 2023-01-11 14:17:43,852\tWARNING env.py:159 -- Your env reset() method appears to take 'seed' or 'return_info' arguments. Note that these are not yet supported in RLlib. Seeding will take place using 'env.seed()' and the info dict will not be returned from reset.\n",
            "\u001b[2m\u001b[36m(PPO pid=119661)\u001b[0m 2023-01-11 14:17:46,696\tINFO trainable.py:172 -- Trainable.setup took 11.059 seconds. If your trainable is slow to initialize, consider setting reuse_actors=True to reduce actor creation overheads.\n",
            "\u001b[2m\u001b[36m(PPO pid=119661)\u001b[0m 2023-01-11 14:17:46,697\tWARNING util.py:66 -- Install gputil for GPU system monitoring.\n"
          ]
        },
        {
          "output_type": "display_data",
          "data": {
            "text/plain": [
              "<IPython.core.display.HTML object>"
            ],
            "text/html": [
              "<div class=\"trialProgress\">\n",
              "  <h3>Trial Progress</h3>\n",
              "  <table>\n",
              "<thead>\n",
              "<tr><th>Trial name                 </th><th style=\"text-align: right;\">  agent_timesteps_total</th><th>counters                                                                                                                                </th><th>custom_metrics  </th><th>date               </th><th>done  </th><th style=\"text-align: right;\">  episode_len_mean</th><th>episode_media  </th><th style=\"text-align: right;\">  episode_reward_max</th><th style=\"text-align: right;\">  episode_reward_mean</th><th style=\"text-align: right;\">  episode_reward_min</th><th style=\"text-align: right;\">  episodes_this_iter</th><th style=\"text-align: right;\">  episodes_total</th><th>experiment_id                   </th><th>hostname    </th><th>info                                                                                                                                                                                                                                                                                                                                                                                                                                                                                                                                                                                              </th><th style=\"text-align: right;\">  iterations_since_restore</th><th>node_ip   </th><th style=\"text-align: right;\">  num_agent_steps_sampled</th><th style=\"text-align: right;\">  num_agent_steps_trained</th><th style=\"text-align: right;\">  num_env_steps_sampled</th><th style=\"text-align: right;\">  num_env_steps_sampled_this_iter</th><th style=\"text-align: right;\">  num_env_steps_trained</th><th style=\"text-align: right;\">  num_env_steps_trained_this_iter</th><th style=\"text-align: right;\">  num_faulty_episodes</th><th style=\"text-align: right;\">  num_healthy_workers</th><th style=\"text-align: right;\">  num_in_flight_async_reqs</th><th style=\"text-align: right;\">  num_remote_worker_restarts</th><th style=\"text-align: right;\">  num_steps_trained_this_iter</th><th>perf                                                             </th><th style=\"text-align: right;\">   pid</th><th>policy_reward_max  </th><th>policy_reward_mean  </th><th>policy_reward_min  </th><th>sampler_perf                                                                                                                                                                                                      </th><th>sampler_results                                                                                                                                                                                                                                                                                                                                                                                                                                                                                                                                                                                                                                                                                                                                                                                                                                                                                                                                                                                                                                                                                                                                                                                                                                                                                                                                                                                                                                                                                                                                                                                                                                                                                                                                                                                                                              </th><th style=\"text-align: right;\">  time_since_restore</th><th style=\"text-align: right;\">  time_this_iter_s</th><th style=\"text-align: right;\">  time_total_s</th><th>timers                                                                                                                                                                                 </th><th style=\"text-align: right;\">  timestamp</th><th style=\"text-align: right;\">  timesteps_since_restore</th><th style=\"text-align: right;\">  timesteps_total</th><th style=\"text-align: right;\">  training_iteration</th><th>trial_id   </th><th style=\"text-align: right;\">  warmup_time</th></tr>\n",
              "</thead>\n",
              "<tbody>\n",
              "<tr><td>PPO_CartPole-v1_acc3c_00000</td><td style=\"text-align: right;\">                 108000</td><td>{&#x27;num_env_steps_sampled&#x27;: 108000, &#x27;num_env_steps_trained&#x27;: 108000, &#x27;num_agent_steps_sampled&#x27;: 108000, &#x27;num_agent_steps_trained&#x27;: 108000}</td><td>{}              </td><td>2023-01-11_14-23-49</td><td>False </td><td style=\"text-align: right;\">            138.08</td><td>{}             </td><td style=\"text-align: right;\">                 163</td><td style=\"text-align: right;\">               138.08</td><td style=\"text-align: right;\">                 117</td><td style=\"text-align: right;\">                  30</td><td style=\"text-align: right;\">            1049</td><td>ad44312a37a642e886f57a8606966858</td><td>a8d2d35d2bc9</td><td>{&#x27;learner&#x27;: {&#x27;default_policy&#x27;: {&#x27;learner_stats&#x27;: {&#x27;cur_kl_coeff&#x27;: 3.417187452316284, &#x27;cur_lr&#x27;: 0.009999999776482582, &#x27;total_loss&#x27;: 9.993033, &#x27;policy_loss&#x27;: -0.035428308, &#x27;vf_loss&#x27;: 10.0, &#x27;vf_explained_var&#x27;: 0.29483724, &#x27;kl&#x27;: 0.008329304, &#x27;entropy&#x27;: 0.44049788, &#x27;entropy_coeff&#x27;: 0.0, &#x27;model&#x27;: {}}, &#x27;custom_metrics&#x27;: {}, &#x27;num_agent_steps_trained&#x27;: 128.0, &#x27;num_grad_updates_lifetime&#x27;: 24645.5, &#x27;diff_num_grad_updates_vs_sampler_policy&#x27;: 464.5}}, &#x27;num_env_steps_sampled&#x27;: 108000, &#x27;num_env_steps_trained&#x27;: 108000, &#x27;num_agent_steps_sampled&#x27;: 108000, &#x27;num_agent_steps_trained&#x27;: 108000}</td><td style=\"text-align: right;\">                        27</td><td>172.28.0.2</td><td style=\"text-align: right;\">                   108000</td><td style=\"text-align: right;\">                   108000</td><td style=\"text-align: right;\">                 108000</td><td style=\"text-align: right;\">                             4000</td><td style=\"text-align: right;\">                 108000</td><td style=\"text-align: right;\">                             4000</td><td style=\"text-align: right;\">                    0</td><td style=\"text-align: right;\">                    1</td><td style=\"text-align: right;\">                         0</td><td style=\"text-align: right;\">                           0</td><td style=\"text-align: right;\">                         4000</td><td>{&#x27;cpu_util_percent&#x27;: 76.28421052631579, &#x27;ram_util_percent&#x27;: 22.5}</td><td style=\"text-align: right;\">119661</td><td>{}                 </td><td>{}                  </td><td>{}                 </td><td>{&#x27;mean_raw_obs_processing_ms&#x27;: 0.45106545684940225, &#x27;mean_inference_ms&#x27;: 0.9862120069326644, &#x27;mean_action_processing_ms&#x27;: 0.10103687549102655, &#x27;mean_env_wait_ms&#x27;: 0.09757019258215607, &#x27;mean_env_render_ms&#x27;: 0.0}</td><td>{&#x27;episode_reward_max&#x27;: 163.0, &#x27;episode_reward_min&#x27;: 117.0, &#x27;episode_reward_mean&#x27;: 138.08, &#x27;episode_len_mean&#x27;: 138.08, &#x27;episode_media&#x27;: {}, &#x27;episodes_this_iter&#x27;: 30, &#x27;policy_reward_min&#x27;: {}, &#x27;policy_reward_max&#x27;: {}, &#x27;policy_reward_mean&#x27;: {}, &#x27;custom_metrics&#x27;: {}, &#x27;hist_stats&#x27;: {&#x27;episode_reward&#x27;: [128.0, 126.0, 120.0, 128.0, 121.0, 134.0, 117.0, 139.0, 117.0, 148.0, 127.0, 135.0, 122.0, 138.0, 142.0, 135.0, 135.0, 140.0, 149.0, 142.0, 159.0, 137.0, 135.0, 145.0, 141.0, 131.0, 150.0, 147.0, 150.0, 137.0, 156.0, 134.0, 147.0, 153.0, 140.0, 143.0, 145.0, 137.0, 144.0, 133.0, 132.0, 146.0, 149.0, 144.0, 144.0, 136.0, 162.0, 130.0, 133.0, 143.0, 143.0, 143.0, 145.0, 131.0, 139.0, 136.0, 144.0, 126.0, 139.0, 142.0, 163.0, 144.0, 139.0, 141.0, 144.0, 144.0, 148.0, 155.0, 133.0, 144.0, 146.0, 138.0, 138.0, 136.0, 127.0, 136.0, 126.0, 139.0, 149.0, 130.0, 158.0, 126.0, 132.0, 133.0, 123.0, 130.0, 129.0, 139.0, 123.0, 131.0, 145.0, 140.0, 132.0, 135.0, 134.0, 126.0, 127.0, 142.0, 137.0, 132.0], &#x27;episode_lengths&#x27;: [128, 126, 120, 128, 121, 134, 117, 139, 117, 148, 127, 135, 122, 138, 142, 135, 135, 140, 149, 142, 159, 137, 135, 145, 141, 131, 150, 147, 150, 137, 156, 134, 147, 153, 140, 143, 145, 137, 144, 133, 132, 146, 149, 144, 144, 136, 162, 130, 133, 143, 143, 143, 145, 131, 139, 136, 144, 126, 139, 142, 163, 144, 139, 141, 144, 144, 148, 155, 133, 144, 146, 138, 138, 136, 127, 136, 126, 139, 149, 130, 158, 126, 132, 133, 123, 130, 129, 139, 123, 131, 145, 140, 132, 135, 134, 126, 127, 142, 137, 132]}, &#x27;sampler_perf&#x27;: {&#x27;mean_raw_obs_processing_ms&#x27;: 0.45106545684940225, &#x27;mean_inference_ms&#x27;: 0.9862120069326644, &#x27;mean_action_processing_ms&#x27;: 0.10103687549102655, &#x27;mean_env_wait_ms&#x27;: 0.09757019258215607, &#x27;mean_env_render_ms&#x27;: 0.0}, &#x27;num_faulty_episodes&#x27;: 0}</td><td style=\"text-align: right;\">             361.184</td><td style=\"text-align: right;\">           13.1214</td><td style=\"text-align: right;\">       361.184</td><td>{&#x27;training_iteration_time_ms&#x27;: 13232.401, &#x27;load_time_ms&#x27;: 0.517, &#x27;load_throughput&#x27;: 7743211.335, &#x27;learn_time_ms&#x27;: 6753.92, &#x27;learn_throughput&#x27;: 592.249, &#x27;synch_weights_time_ms&#x27;: 5.085}</td><td style=\"text-align: right;\"> 1673447029</td><td style=\"text-align: right;\">                        0</td><td style=\"text-align: right;\">           108000</td><td style=\"text-align: right;\">                  27</td><td>acc3c_00000</td><td style=\"text-align: right;\">      11.0723</td></tr>\n",
              "</tbody>\n",
              "</table>\n",
              "</div>\n",
              "<style>\n",
              ".trialProgress {\n",
              "  display: flex;\n",
              "  flex-direction: column;\n",
              "  color: var(--jp-ui-font-color1);\n",
              "}\n",
              ".trialProgress h3 {\n",
              "  font-weight: bold;\n",
              "}\n",
              ".trialProgress td {\n",
              "  white-space: nowrap;\n",
              "}\n",
              "</style>\n"
            ]
          },
          "metadata": {}
        },
        {
          "output_type": "stream",
          "name": "stderr",
          "text": [
            "2023-01-11 14:23:51,363\tWARNING tune.py:690 -- Stop signal received (e.g. via SIGINT/Ctrl+C), ending Ray Tune run. This will try to checkpoint the experiment state one last time. Press CTRL+C (or send SIGINT/SIGKILL/SIGTERM) to skip. \n",
            "2023-01-11 14:23:54,689\tERROR tune.py:758 -- Trials did not complete: [PPO_CartPole-v1_acc3c_00000]\n",
            "2023-01-11 14:23:54,692\tINFO tune.py:762 -- Total run time: 388.02 seconds (387.76 seconds for the tuning loop).\n",
            "2023-01-11 14:23:54,694\tWARNING tune.py:768 -- Experiment has been interrupted, but the most recent state was saved. You can continue running this experiment by passing `resume=True` to `tune.run()`\n"
          ]
        },
        {
          "output_type": "execute_result",
          "data": {
            "text/plain": [
              "<ray.tune.result_grid.ResultGrid at 0x7f7227c40700>"
            ]
          },
          "metadata": {},
          "execution_count": 43
        }
      ]
    },
    {
      "cell_type": "markdown",
      "source": [
        "### Monitoring\n",
        "\n",
        "We just saw how to use the basic API of RLlib. However we didn't have any data during the training (which can be nice for monitoring). \n",
        "From now you have multiple solutions :\n",
        "\n",
        "* **Tensorboard** :\n",
        "<p align=\"center\">\n",
        "<img src=\"https://www.tensorflow.org/static/site-assets/images/project-logos/tensorboard-logo-social.png\" alt=\"drawing\" width=\"400\" />\n",
        "</p> \n",
        "\n",
        "TensorBoard stores the data localy on logfile and you can access the interface in your browser on the port you specified.\n",
        "It's well suited for RLlib because the library generates its own logfile\n",
        "\n",
        "\n"
      ],
      "metadata": {
        "id": "BqW1y7zg2rkG"
      }
    },
    {
      "cell_type": "code",
      "source": [
        "!pip install -U tensorboardx > /dev/null 2>&1"
      ],
      "metadata": {
        "id": "gzufCK2_AI27"
      },
      "execution_count": null,
      "outputs": []
    },
    {
      "cell_type": "code",
      "source": [
        "%tensorboard --logdir /content/results/PPO/NAME_OF_YOUR_EXPERIMENT_FOLDER"
      ],
      "metadata": {
        "id": "Hdpghdm8_f7p"
      },
      "execution_count": null,
      "outputs": []
    },
    {
      "cell_type": "markdown",
      "source": [
        "* **Weights and Biases** :\n",
        "\n",
        "<p align=\"center\">\n",
        "<img src=\"https://assets.website-files.com/5ac6b7f2924c656f2b13a88c/6077a58f02c7ef0e37fde627_weights%20and%20biases%20workspace.jpg\" alt=\"drawing\" width=\"400\" />\n",
        "\n",
        "Weights and Biases is a great tool to visualize data in real time (or near real time). \n",
        "The advantage over tensorboard is that the data is stored in the cloud.\n",
        "Steps to use weights and biases : \n",
        "1. Create an account : [here](https://wandb.ai/site)\n",
        "2.Copy your API key : [here](https://wandb.ai/home)"
      ],
      "metadata": {
        "id": "a-JyBClpUW8Q"
      }
    },
    {
      "cell_type": "code",
      "source": [
        "!pip install wandb > /dev/null 2>&1"
      ],
      "metadata": {
        "id": "0M7KehmLdJ4U"
      },
      "execution_count": null,
      "outputs": []
    },
    {
      "cell_type": "code",
      "source": [
        "! wandb login"
      ],
      "metadata": {
        "colab": {
          "base_uri": "https://localhost:8080/"
        },
        "id": "3dLTzdd1dsps",
        "outputId": "671f7bcc-9701-4c9f-8420-ce9a3d1a9bca"
      },
      "execution_count": null,
      "outputs": [
        {
          "output_type": "stream",
          "name": "stdout",
          "text": [
            "\u001b[34m\u001b[1mwandb\u001b[0m: Logging into wandb.ai. (Learn how to deploy a W&B server locally: https://wandb.me/wandb-server)\n",
            "\u001b[34m\u001b[1mwandb\u001b[0m: You can find your API key in your browser here: https://wandb.ai/authorize\n",
            "\u001b[34m\u001b[1mwandb\u001b[0m: Paste an API key from your profile and hit enter, or press ctrl+c to quit: \n",
            "\u001b[34m\u001b[1mwandb\u001b[0m: Appending key for api.wandb.ai to your netrc file: /root/.netrc\n"
          ]
        }
      ]
    },
    {
      "cell_type": "markdown",
      "source": [
        "Basic usage of wandb: "
      ],
      "metadata": {
        "id": "_HVfKXpNrCqN"
      }
    },
    {
      "cell_type": "code",
      "source": [
        "import wandb\n",
        "wandb.init(project='Test')\n",
        "wandb.run.name='run'\n",
        "for k in range(50):\n",
        "    wandb.log({'data': k})\n"
      ],
      "metadata": {
        "id": "4V0AqpnSkQ4-"
      },
      "execution_count": null,
      "outputs": []
    },
    {
      "cell_type": "markdown",
      "source": [
        "To use wandb with Ray, it is necessary to implement a specific CallBack( function that are called to produce the log) that call wandb.\n",
        "[Here](https://docs.ray.io/en/latest/_modules/ray/rllib/algorithms/callbacks.html#DefaultCallbacks) is the DefaultCallback. You can overide functions so that you output your own metrics. I propose an implementation that uses wandb in the ray_course.custom_callbacks. Feel free to modify it : "
      ],
      "metadata": {
        "id": "mB_WRr719UY8"
      }
    },
    {
      "cell_type": "code",
      "source": [
        "from ray_course.custom_callbacks import CustomCallbacks\n",
        "ray.shutdown()\n",
        "ray.init() #re-init\n",
        "CONFIG = {\n",
        "    #COMON config\n",
        "\t\t\"env\": 'CartPole-v1',\n",
        "\t\t# \"env_config\": ENV_CONFIG,\n",
        "\t\t\"num_gpus\": 0,\n",
        "\t\t\"num_workers\": 1, # int(ressources['CPU'])\n",
        "    \"gamma\": 0.95,\n",
        "\t\t\"explore\": True,\n",
        "\t\t\"exploration_config\": {\n",
        "\t\t\t\"type\": \"StochasticSampling\",\n",
        "\t\t},\n",
        "    'reuse_actors':True,\n",
        "    \"framework\": \"tf2\", #I prefer tensorflow but feel free to use pytorch\n",
        "    \"callbacks\": CustomCallbacks,\n",
        "    # PPO config\n",
        "    \"use_critic\": True,\n",
        "    \"use_gae\": True,\n",
        "    \"lambda\": 1,\n",
        "    \"kl_coeff\": 0.2,\n",
        "    \"rollout_fragment_length\":1024,\n",
        "    \"train_batch_size\": 1024,\n",
        "    \"sgd_minibatch_size\": 64,\n",
        "    \"shuffle_sequences\": True,\n",
        "    \"num_sgd_iter\": 16,\n",
        "    \"lr\": 1e-3,\n",
        "    \"lr_schedule\": None,\n",
        "    \"vf_loss_coeff\": 1.0,\n",
        "    \"model\": {\n",
        "        \"vf_share_layers\": False,\n",
        "    },\n",
        "    \"entropy_coeff\": 0.0,\n",
        "    \"entropy_coeff_schedule\": None,\n",
        "    \"clip_param\": 0.4,\n",
        "    \"vf_clip_param\": 10.0,\n",
        "    \"grad_clip\": None,\n",
        "    \"kl_target\": 0.01,\n",
        "    \"batch_mode\": \"truncate_episodes\",\n",
        "    \"observation_filter\": \"NoFilter\"\n",
        "\t}\n",
        "algo = PPO(config=CONFIG)\n",
        "for k in range(10):\n",
        "\tresult=algo.train()\n",
        "\t# print('epoch : ',k)\n",
        "    # print(pretty_print(result))\n",
        " \n",
        "checkpoint_dir = algo.save() #save the model \n",
        "print(f\"Checkpoint saved in directory {checkpoint_dir}\") \n",
        "ray.shutdown()"
      ],
      "metadata": {
        "id": "IH6eZTT4fC_c"
      },
      "execution_count": null,
      "outputs": []
    },
    {
      "cell_type": "markdown",
      "source": [
        "# Second training : Pong\n",
        "\n",
        "For this environment we are going to use [rainbow](https://docs.ray.io/en/latest/rllib/rllib-algorithms.html#dqn). \n",
        "\n"
      ],
      "metadata": {
        "id": "bVBx0CdRSpTY"
      }
    },
    {
      "cell_type": "code",
      "source": [
        "!pip install \"gym[atari]\" \"gym[accept-rom-license]\" > /dev/null 2>&1"
      ],
      "metadata": {
        "id": "kZxbBsfgVRmS"
      },
      "execution_count": null,
      "outputs": []
    },
    {
      "cell_type": "markdown",
      "source": [
        "**RESTART RUNTIME**"
      ],
      "metadata": {
        "id": "J0xaKWKtqR9V"
      }
    },
    {
      "cell_type": "markdown",
      "source": [
        "Let's check our new environment "
      ],
      "metadata": {
        "id": "-uim6g5_Z3_U"
      }
    },
    {
      "cell_type": "code",
      "source": [
        "import gym\n",
        "import ray\n",
        "from pyvirtualdisplay import Display\n",
        "import pygame\n",
        "import gym\n",
        "from gym import logger as gymlogger\n",
        "from ray_course.gym_recorder import *\n",
        "gymlogger.set_level(40) #error only\n",
        "display = Display(visible=0, size=(1400, 900)) #display\n",
        "display.start()\n",
        "env=wrap_env(gym.make('PongDeterministic-v0')\n",
        ") #env\n",
        "# rollout\n",
        "s = env.reset()\n",
        "print(s.shape)\n",
        "d=False\n",
        "while not d:\n",
        "    env.render('rgb_array')\n",
        "    a = env.action_space.sample() \n",
        "    s, r, d, i = env.step(a) \n",
        "env.close()\n",
        "show_video()"
      ],
      "metadata": {
        "id": "b-SoHF7OUgmW",
        "colab": {
          "base_uri": "https://localhost:8080/",
          "height": 439
        },
        "outputId": "a8d58cb2-ea5c-4256-d82a-27c172e5874f"
      },
      "execution_count": null,
      "outputs": [
        {
          "output_type": "stream",
          "name": "stdout",
          "text": [
            "(210, 160, 3)\n"
          ]
        },
        {
          "output_type": "display_data",
          "data": {
            "text/plain": [
              "<IPython.core.display.HTML object>"
            ],
            "text/html": [
              "<video alt=\"test\" autoplay \n",
              "                loop controls style=\"height: 400px;\">\n",
              "                <source src=\"data:video/mp4;base64,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\" type=\"video/mp4\" />\n",
              "             </video>"
            ]
          },
          "metadata": {}
        }
      ]
    },
    {
      "cell_type": "markdown",
      "source": [
        "Now let's see if we can learn a good policy with rainbow. Here is the new CONFIG and the training."
      ],
      "metadata": {
        "id": "rCCKLg-xZDHC"
      }
    },
    {
      "cell_type": "code",
      "source": [
        "import ray\n",
        "from ray_course.custom_callbacks import CustomCallbacks\n",
        "from datetime import datetime\n",
        "import wandb\n",
        "from ray.rllib.algorithms.dqn import DQN\n",
        "ray.shutdown()\n",
        "ray.init() #re-init\n",
        "CONFIG = {\n",
        "    #COMON config\n",
        "\t\t\"env\": 'PongDeterministic-v0',\n",
        "\t\t\"num_workers\": 1, # int(ressources['CPU'])\n",
        "        \"gamma\": 0.95,\n",
        "\t\t\"explore\": True,\n",
        "\t\t\"exploration_config\": {\n",
        "\t\t\t\"type\": \"StochasticSampling\",\n",
        "\t\t},\n",
        "        \"framework\": \"tf2\", #I prefer tensorflow but feel free to use pytorch\n",
        "        \"callbacks\": CustomCallbacks,\n",
        "        # rainbow config\n",
        "        'env_config':{},  # deterministic\n",
        "        'num_gpus': 1,\n",
        "        'gamma': 0.99,\n",
        "        'lr': .0001,\n",
        "        'replay_buffer_config':\n",
        "            {'type': 'MultiAgentPrioritizedReplayBuffer',\n",
        "            'capacity': 50000},\n",
        "        'num_steps_sampled_before_learning_starts': 10000,\n",
        "        'rollout_fragment_length': 4,\n",
        "        'train_batch_size' : 32,\n",
        "        'exploration_config' :\n",
        "            {'epsilon_timesteps': 200000,\n",
        "            'final_epsilon': .01},\n",
        "        'model':\n",
        "            {'grayscale': True,\n",
        "            'zero_mean': False,\n",
        "            'dim': 42},\n",
        "        # we should set compress_observations to True because few machines\n",
        "        # would be able to contain the replay buffers in memory otherwise\n",
        "        'compress_observations' : True,\n",
        "            }\n",
        "algo = DQN(config=CONFIG)\n",
        "now = datetime.now()\n",
        "name = now.strftime(\"_%m_%d_%Y_%H_%M_%S\")\n",
        "wandb.run.name='rainbow'+name\n",
        "for k in range(100):\n",
        "\tresult=algo.train()\n",
        "\tprint('epoch : ',k)\n",
        "    # print(pretty_print(result))\n",
        " \n",
        "checkpoint_dir = algo.save() #save the model \n",
        "print(f\"Checkpoint saved in directory {checkpoint_dir}\") \n",
        "ray.shutdown()"
      ],
      "metadata": {
        "id": "br0-54xVaRR8"
      },
      "execution_count": null,
      "outputs": []
    },
    {
      "cell_type": "markdown",
      "source": [
        "Cool! It works but as you can see the state is defined as the image at the given time step (just like when you play ! ). However, when learning on Atari it is more efficient to define the state of the agent as a stack of frame so that it is aware of the dynamic (like the speed vector of the ball). Otherwise it won't learn much.\n",
        "\n",
        "A common architecture to use is the RNN ( LSTM are the most used). Also, for this tutorial we will only use num_frames=3, so we won't be using lstm and the frames will be added on the channels after we convert the RGB images into grayscale(we had C=3(R,G,B) and now C=1*num_frames). \n",
        "Alternatively, you can find a way of implementing an lstm [here](https://docs.ray.io/en/latest/rllib/rllib-models.html#implementing-custom-recurrent-networks).\n",
        "The API of RLLIB has recently changed so we won't use the Preprocessor class. Instead we are going to create our own wrapped environment. "
      ],
      "metadata": {
        "id": "DMvW1Suv8Xdi"
      }
    },
    {
      "cell_type": "code",
      "source": [
        "from numpy.core.memmap import uint8\n",
        "import numpy as np \n",
        "import gym \n",
        "import cv2\n",
        "import numpy as np\n",
        "from gym.spaces import Box\n",
        "import matplotlib.pyplot as plt \n",
        "class CustomEnv(gym.Env):\n",
        "    def __init__(self,dict_env={}) -> None:\n",
        "        super(CustomEnv, self).__init__()\n",
        "        self.dict_env=dict_env\n",
        "        self.old_env= gym.make('PongDeterministic-v0')\n",
        "        self.num_frames=3\n",
        "        self.shape_new_image=(84, 84, 1)\n",
        "        self.observation_space=Box(0, 255, (self.shape_new_image[0], self.shape_new_image[1], self.shape_new_image[2]*3), dtype=uint8)\n",
        "        self.action_space=self.old_env.action_space\n",
        "        self.seq_s=[np.zeros(shape=self.shape_new_image) for _ in range(self.num_frames)]\n",
        "        \n",
        "    def reset(self):\n",
        "        # self.seq_s=[np.zeros(shape=self.shape_new_image) for _ in range(self.num_frames)] #reset sequence of states\n",
        "        old_env_s= self.old_env.reset() #state from the old environment\n",
        "        old_env_s=self.image_filter(np.array(old_env_s))\n",
        "        self.seq_s.pop(0) #delete older\n",
        "        self.seq_s.append(old_env_s)\n",
        "        s = np.concatenate(self.seq_s,axis=-1) \n",
        "        return s\n",
        "\n",
        "    def step(self, a):\n",
        "        old_env_s, r, d, i = self.old_env.step(a) \n",
        "        old_env_s=self.image_filter(np.array(old_env_s))\n",
        "        self.seq_s.pop(0)\n",
        "        self.seq_s.append(old_env_s)\n",
        "        s = np.concatenate(self.seq_s,axis=-1)\n",
        "        return s, r, d, i\n",
        "\n",
        "    def render(self,args):\n",
        "        self.old_env.render(args)\n",
        "    \n",
        "    def image_filter(self,img):\n",
        "        img_gs= cv2.cvtColor(img, cv2.COLOR_BGR2GRAY)\n",
        "        resized = cv2.resize(img_gs, self.shape_new_image[:-1], interpolation = cv2.INTER_AREA)/255.0\n",
        "        return np.expand_dims(resized,axis=-1)\n",
        "\n",
        "    def __reduce__(self):\n",
        "        deserializer = CustomEnv\n",
        "        serialized_data = (self.dict_env, )\n",
        "        return deserializer, serialized_data\n",
        "\n",
        "\n",
        "\n",
        "env=CustomEnv()\n",
        "id=ray.put(env) #check if it can be serialized\n",
        "print(env.observation_space)\n",
        "s=env.reset()\n",
        "print(s.shape)\n",
        "# plt.imshow(s)\n",
        "s, r, d, i = env.step(env.action_space.sample())\n",
        "print(s.shape)"
      ],
      "metadata": {
        "colab": {
          "base_uri": "https://localhost:8080/"
        },
        "id": "8-B1bQnR8roC",
        "outputId": "161e60d0-dd2e-4631-8726-cb31a16b497f"
      },
      "execution_count": null,
      "outputs": [
        {
          "output_type": "stream",
          "name": "stderr",
          "text": [
            "/usr/local/lib/python3.8/dist-packages/gym/envs/registration.py:593: UserWarning: \u001b[33mWARN: The environment PongDeterministic-v0 is out of date. You should consider upgrading to version `v4`.\u001b[0m\n",
            "  logger.warn(\n",
            "/usr/local/lib/python3.8/dist-packages/gym/core.py:317: DeprecationWarning: \u001b[33mWARN: Initializing wrapper in old step API which returns one bool instead of two. It is recommended to set `new_step_api=True` to use new step API. This will be the default behaviour in future.\u001b[0m\n",
            "  deprecation(\n",
            "/usr/local/lib/python3.8/dist-packages/gym/wrappers/step_api_compatibility.py:39: DeprecationWarning: \u001b[33mWARN: Initializing environment in old step API which returns one bool instead of two. It is recommended to set `new_step_api=True` to use new step API. This will be the default behaviour in future.\u001b[0m\n",
            "  deprecation(\n"
          ]
        },
        {
          "output_type": "stream",
          "name": "stdout",
          "text": [
            "Box(0, 255, (84, 84, 3), uint8)\n",
            "(84, 84, 3)\n",
            "(84, 84, 3)\n"
          ]
        },
        {
          "output_type": "stream",
          "name": "stderr",
          "text": [
            "/usr/local/lib/python3.8/dist-packages/gym/utils/passive_env_checker.py:227: DeprecationWarning: \u001b[33mWARN: Core environment is written in old step API which returns one bool instead of two. It is recommended to rewrite the environment with new step API. \u001b[0m\n",
            "  logger.deprecation(\n"
          ]
        }
      ]
    },
    {
      "cell_type": "markdown",
      "source": [
        "# Implementing your own model\n",
        "\n",
        "Now that we have a new state let's also implement our own model.\n",
        "As we saw, ray has several API levels. The very high level with Tune and lower levels.\n",
        "When implementing a RL algo it is essential to change the structure of the model.\n",
        "To do this we will modify the ModelTF2 class (feel free to use the [pytorch class](https://docs.ray.io/en/latest/rllib/rllib-models.html#custom-pytorch-models))."
      ],
      "metadata": {
        "id": "6KB1-JervDeM"
      }
    },
    {
      "cell_type": "code",
      "source": [
        "import argparse\n",
        "import os\n",
        "import ray\n",
        "from ray import air, tune\n",
        "from ray.rllib.algorithms.callbacks import DefaultCallbacks\n",
        "from ray.rllib.algorithms.dqn.dqn import DQNConfig\n",
        "from ray.rllib.algorithms.dqn.distributional_q_tf_model import DistributionalQTFModel\n",
        "from ray.rllib.models import ModelCatalog\n",
        "from ray.rllib.models.tf.misc import normc_initializer\n",
        "from ray.rllib.models.tf.tf_modelv2 import TFModelV2\n",
        "from ray.rllib.models.tf.visionnet import VisionNetwork as MyVisionNetwork\n",
        "from ray.rllib.policy.sample_batch import DEFAULT_POLICY_ID\n",
        "from ray.rllib.utils.framework import try_import_tf\n",
        "from ray.rllib.utils.metrics.learner_info import LEARNER_INFO, LEARNER_STATS_KEY\n",
        "from ray.tune.registry import get_trainable_cls\n",
        "tf1, tf, tfv = try_import_tf()\n",
        "class AtariModel(TFModelV2):\n",
        "    def __init__(self, obs_space, action_space, num_outputs, model_config,\n",
        "                 name=\"atari_model\"):\n",
        "        super(AtariModel, self).__init__(obs_space, action_space, num_outputs, model_config,\n",
        "                         name)\n",
        "        inputs = tf.keras.layers.Input(shape=obs_space.shape, name='observations')\n",
        "        # Convolutions on the frames on the screen\n",
        "        layer1 = tf.keras.layers.Conv2D(\n",
        "                32,\n",
        "                [8, 8],\n",
        "                strides=(4, 4),\n",
        "                activation=\"relu\",\n",
        "                data_format='channels_last')(inputs)\n",
        "        layer2 = tf.keras.layers.Conv2D(\n",
        "                32,\n",
        "                [4, 4],\n",
        "                strides=(2, 2),\n",
        "                activation=\"relu\",\n",
        "                data_format='channels_last')(layer1)\n",
        "        layer3 = tf.keras.layers.Conv2D(\n",
        "                32,\n",
        "                [3, 3],\n",
        "                strides=(1, 1),\n",
        "                activation=\"relu\",\n",
        "                data_format='channels_last')(layer2)\n",
        "        layer4 = tf.keras.layers.Flatten()(layer3)\n",
        "        layer5 = tf.keras.layers.Dense(\n",
        "                512,\n",
        "                activation=\"relu\",\n",
        "                kernel_initializer=normc_initializer(1.0))(layer4)\n",
        "        action = tf.keras.layers.Dense(\n",
        "                num_outputs,\n",
        "                activation=\"linear\",\n",
        "                name=\"actions\",\n",
        "                kernel_initializer=normc_initializer(0.01))(layer5)\n",
        "        self.base_model = tf.keras.Model(inputs, action)\n",
        "        # self.register_variables(self.base_model.variables)\n",
        "\n",
        "    def forward(self, input_dict, state, seq_lens):\n",
        "        model_out = self.base_model(input_dict[\"obs\"])\n",
        "        return model_out, state\n"
      ],
      "metadata": {
        "id": "VTioOdekwLxm",
        "colab": {
          "base_uri": "https://localhost:8080/"
        },
        "outputId": "4a900ae7-303f-40e3-a58a-8e868540baf0"
      },
      "execution_count": null,
      "outputs": [
        {
          "output_type": "stream",
          "name": "stderr",
          "text": [
            "2023-01-21 12:53:16,208\tWARNING compression.py:16 -- lz4 not available, disabling sample compression. This will significantly impact RLlib performance. To install lz4, run `pip install lz4`.\n"
          ]
        }
      ]
    },
    {
      "cell_type": "markdown",
      "source": [
        "now you can register the model."
      ],
      "metadata": {
        "id": "Rgijl-M_9lpb"
      }
    },
    {
      "cell_type": "code",
      "source": [
        "ray.init()\n",
        "ModelCatalog.register_custom_model(\"AtariModel\", AtariModel)\n",
        "ray.shutdown()"
      ],
      "metadata": {
        "id": "UggXMnIB9ksS",
        "colab": {
          "base_uri": "https://localhost:8080/"
        },
        "outputId": "38d15aa4-0192-4407-dd28-af7bbf73f5b5"
      },
      "execution_count": null,
      "outputs": [
        {
          "output_type": "stream",
          "name": "stderr",
          "text": [
            "2023-01-20 11:37:54,673\tINFO worker.py:1538 -- Started a local Ray instance.\n"
          ]
        }
      ]
    },
    {
      "cell_type": "markdown",
      "source": [
        "Now let's use your own model in the CONFIG dict: "
      ],
      "metadata": {
        "id": "z-DPZDRn97eY"
      }
    },
    {
      "cell_type": "code",
      "source": [
        "from ray_course.custom_callbacks import CustomCallbacks\n",
        "from ray.rllib.algorithms.dqn import DQN\n",
        "from datetime import datetime\n",
        "import wandb\n",
        "import ray \n",
        "ray.shutdown()\n",
        "ray.init() #re-init\n",
        "CONFIG = {\n",
        "    #COMON config\n",
        "\t\t\"env\": CustomEnv,\n",
        "\t\t# \"env_config\": ENV_CONFIG,\n",
        "\t\t\"num_gpus\": 0,\n",
        "\t\t\"num_workers\": 1, # int(ressources['CPU'])\n",
        "        \"gamma\": 0.95,\n",
        "\t\t\"explore\": True,\n",
        "\t\t\"exploration_config\": {\n",
        "\t\t\t\"type\": \"StochasticSampling\",\n",
        "\t\t},\n",
        "        \"framework\": \"tf2\", #I prefer tensorflow but feel free to use pytorch\n",
        "        \"callbacks\": CustomCallbacks,\n",
        "        # rainbow config\n",
        "        'env_config':{},  # deterministic\n",
        "        'num_gpus': 1,\n",
        "        'gamma': 0.99,\n",
        "        'lr': .0001,\n",
        "        'replay_buffer_config':\n",
        "            {'type': 'MultiAgentPrioritizedReplayBuffer',\n",
        "            'capacity': 50000},\n",
        "        'num_steps_sampled_before_learning_starts': 1000,\n",
        "        'rollout_fragment_length': 4,\n",
        "        'train_batch_size' : 32,\n",
        "        'exploration_config' :\n",
        "            {'epsilon_timesteps': 200000,\n",
        "            'final_epsilon': .01},\n",
        "        'model':\n",
        "            {'custom_model': AtariModel,\n",
        "            'grayscale': True,\n",
        "            'zero_mean': False,\n",
        "            'dim': 42},\n",
        "        # we should set compress_observations to True because few machines\n",
        "        # would be able to contain the replay buffers in memory otherwise\n",
        "        'compress_observations' : True,\n",
        "            }\n",
        "algo = DQN(config=CONFIG)\n",
        "now = datetime.now()\n",
        "name = now.strftime(\"_%m_%d_%Y_%H_%M_%S\")\n",
        "wandb.run.name='rainbow_custom_model'+name\n",
        "for k in range(10):\n",
        "\tresult=algo.train()\n",
        "\tprint('epoch : ',k)\n",
        "    # print(pretty_print(result))\n",
        " \n",
        "checkpoint_dir = algo.save() #save the model \n",
        "print(f\"Checkpoint saved in directory {checkpoint_dir}\") \n",
        "ray.shutdown()"
      ],
      "metadata": {
        "id": "v6BPlGbE-AMC"
      },
      "execution_count": null,
      "outputs": []
    },
    {
      "cell_type": "markdown",
      "source": [
        "# Implementing Curl\n",
        "\n",
        "Let's go further. In order to be more sample efficient we want to implement a regularization term in the loss ( an auxiliary loss). \n",
        "We are going to implement a contrastive loss in order to improve the representation of the encoder. \n",
        "For this we are going to use the Policy API which allows you to change the loss functions, the actions computations, ... see [Policy API](https://docs.ray.io/en/latest/rllib/package_ref/policy/policy.html)\n",
        "\n",
        "Again i will be using tensorflow ([here is the pytorch alternative](https://docs.ray.io/en/latest/rllib/rllib-concepts.html#building-policies-in-tensorflow-eager)): "
      ],
      "metadata": {
        "id": "FpEspwE4EL-4"
      }
    },
    {
      "cell_type": "markdown",
      "source": [
        "1. First we need to change the model so that we have the key encoder and the query encoder\n",
        "\n",
        "\n"
      ],
      "metadata": {
        "id": "ec2vAm5dioux"
      }
    },
    {
      "cell_type": "code",
      "source": [
        "import argparse\n",
        "import os\n",
        "import ray\n",
        "from ray import air, tune\n",
        "from ray.rllib.algorithms.callbacks import DefaultCallbacks\n",
        "from ray.rllib.algorithms.dqn.dqn import DQNConfig\n",
        "from ray.rllib.algorithms.dqn.distributional_q_tf_model import DistributionalQTFModel\n",
        "from ray.rllib.models import ModelCatalog\n",
        "from ray.rllib.models.tf.misc import normc_initializer\n",
        "from ray.rllib.models.tf.tf_modelv2 import TFModelV2\n",
        "from ray.rllib.models.tf.visionnet import VisionNetwork as MyVisionNetwork\n",
        "from ray.rllib.policy.sample_batch import DEFAULT_POLICY_ID\n",
        "from ray.rllib.utils.framework import try_import_tf\n",
        "from ray.rllib.utils.metrics.learner_info import LEARNER_INFO, LEARNER_STATS_KEY\n",
        "from ray.tune.registry import get_trainable_cls\n",
        "tf1, tf, tfv = try_import_tf()\n",
        "\n",
        "class AtariModel(TFModelV2):\n",
        "\n",
        "    def __init__(self, obs_space, action_space, num_outputs, model_config,\n",
        "                 name=\"atari_model\"):\n",
        "        super(AtariModel, self).__init__(obs_space, action_space, num_outputs, model_config,\n",
        "                         name)\n",
        "        inputs = tf.keras.layers.Input(shape=obs_space.shape, name='observations')\n",
        "        self.beta=0.9\n",
        "        # Convolutions on the frames on the screen\n",
        "        # data aug layer k\n",
        "        # layer_aug_k_flip=tf.keras.layers.RandomFlip(\"horizontal_and_vertical\")(inputs)\n",
        "        # layer_aug_k=tf.keras.layers.RandomRotation(0.2)(layer_aug_k_flip)\n",
        "        #encoder keys\n",
        "        layer_k_1 = tf.keras.layers.Conv2D(32,[8, 8],strides=(4, 4),activation=\"relu\",data_format='channels_last',name='layer_k_1',trainable=False)(inputs)\n",
        "        layer_k_2 = tf.keras.layers.Conv2D(64,[4, 4],strides=(2, 2),activation=\"relu\",data_format='channels_last',name='layer_k_2',trainable=False)(layer_k_1)\n",
        "        layer_k_3 = tf.keras.layers.Conv2D(64,[3, 3],strides=(1, 1),activation=\"relu\",data_format='channels_last',name='layer_k_3',trainable=False)(layer_k_2)\n",
        "        flatten_k = tf.keras.layers.Flatten(name='layer_k_4',trainable=False)(layer_k_3)\n",
        "        encoder_k= tf.keras.layers.Dense(1024,activation=\"relu\",kernel_initializer=normc_initializer(1.0), name='layer_k_5')(flatten_k)\n",
        "        # data aug layer q\n",
        "        # layer_aug_q_flip=tf.keras.layers.RandomFlip(\"horizontal_and_vertical\")(inputs)\n",
        "        # layer_aug_q=tf.keras.layers.RandomRotation(0.2)(layer_aug_q_flip)\n",
        "        #encoder queries\n",
        "        layer_q_1 = tf.keras.layers.Conv2D(32,[8, 8],strides=(4, 4),activation=\"relu\",data_format='channels_last',name='layer_q_1')(inputs)\n",
        "        layer_q_2 = tf.keras.layers.Conv2D(64,[4, 4],strides=(2, 2),activation=\"relu\",data_format='channels_last',name='layer_q_2')(layer_q_1)\n",
        "        layer_q_3 = tf.keras.layers.Conv2D(64,[3, 3],strides=(1, 1),activation=\"relu\",data_format='channels_last',name='layer_q_3')(layer_q_2)\n",
        "        flatten_q = tf.keras.layers.Flatten(name='layer_q_4')(layer_q_3)\n",
        "        encoder_q = tf.keras.layers.Dense(1024,activation=\"relu\",kernel_initializer=normc_initializer(1.0), name='layer_q_5')(flatten_q)\n",
        "        # Project Matrix W\n",
        "        # W=tf.keras.layers.Dense(64, activation=None, use_bias=False)(encoder_k)\n",
        "        # Head layer\n",
        "        layer5 = tf.keras.layers.Dense(512,activation=\"relu\",kernel_initializer=normc_initializer(1.0))(encoder_q)\n",
        "        action = tf.keras.layers.Dense(num_outputs,activation=\"linear\",name=\"actions\",kernel_initializer=normc_initializer(0.01))(layer5)\n",
        "        self.base_model = tf.keras.Model(inputs, [action, encoder_q,encoder_k])\n",
        "\n",
        "        # self.register_variables(self.base_model.variables)\n",
        "\n",
        "    def forward(self, input_dict, state, seq_lens):\n",
        "        model_out, self._encoder_q_out, self._encoder_k_out= self.base_model(input_dict[\"obs\"])\n",
        "        return model_out, state\n",
        "    \n",
        "    # def projection_function(self):\n",
        "    #     return self._W\n",
        "    \n",
        "    def encoder_q_function(self):\n",
        "        return self._encoder_q_out\n",
        "\n",
        "    def encoder_k_function(self):\n",
        "        return self._encoder_k_out\n",
        "\n",
        "\n",
        "    def ema_update(self):\n",
        "        for k in range(1,5):\n",
        "            layer_k=self.base_model.get_layer('layer_k_'+str(k))\n",
        "            layer_q=self.base_model.get_layer('layer_q_'+str(k))\n",
        "            weights_k_l=layer_k.get_weights()\n",
        "            weights_q_l=layer_q.get_weights()\n",
        "            new_weights_k=[]\n",
        "            for i in range(len(weights_k_l)):\n",
        "                new_weights_k.append(weights_k_l[i]*float(self.beta)+(1-float(self.beta))*weights_q_l[i])\n",
        "            self.base_model.get_layer('layer_k_'+str(k)).set_weights(new_weights_k)\n",
        "\n",
        "\n"
      ],
      "metadata": {
        "id": "3_Q4rBjGHl65"
      },
      "execution_count": null,
      "outputs": []
    },
    {
      "cell_type": "markdown",
      "source": [
        "2. change the policy to add the contrastive loss in the loss_fn function\n"
      ],
      "metadata": {
        "id": "1XCbESaUs6rC"
      }
    },
    {
      "cell_type": "code",
      "source": [
        "from torch import logit\n",
        "from ray.rllib.algorithms.dqn.dqn_tf_policy import build_q_losses\n",
        "from ray.rllib.policy.sample_batch import SampleBatch\n",
        "import tensorflow as tf\n",
        "from tensorflow.keras.losses import CosineSimilarity\n",
        "\n",
        "\n",
        "def custom_loss(policy, model, _, train_batch):\n",
        "    # RAINBOW LOSS\n",
        "    dqn_loss= build_q_losses(policy, model, _, train_batch)\n",
        "\n",
        "    # OUR CONTRASTIVE LOSS\n",
        "    cosine_loss = tf.keras.losses.CosineSimilarity(axis=-1)\n",
        "    size_crop=20\n",
        "    input_batch=train_batch[SampleBatch.CUR_OBS]\n",
        "    # augmented view for query \n",
        "    i_x=np.random.randint(0,size_crop)\n",
        "    i_y=np.random.randint(0,size_crop)\n",
        "    cropped_s= tf.keras.layers.Cropping2D(cropping=((i_x, size_crop-i_x), (i_y, size_crop-i_y)))(input_batch)\n",
        "    augmented_q = tf.image.resize(cropped_s, (input_batch.shape[1], input_batch.shape[2]), method = tf.image.ResizeMethod.GAUSSIAN) #gausian interpolation\n",
        "    model_output, _ = model({'obs' : augmented_q})\n",
        "    # latent q\n",
        "    z_q=model.encoder_q_function()\n",
        "    # augmented view for key \n",
        "    i_x=np.random.randint(0,size_crop)\n",
        "    i_y=np.random.randint(0,size_crop)\n",
        "    cropped_s= tf.keras.layers.Cropping2D(cropping=((i_x, size_crop-i_x), (i_y, size_crop-i_y)))(input_batch)\n",
        "    augmented_k = tf.image.resize(cropped_s, (input_batch.shape[1], input_batch.shape[2]), method = tf.image.ResizeMethod.GAUSSIAN)\n",
        "    model_output, _ = model({'obs' : augmented_k})\n",
        "    # latent k\n",
        "    z_k=model.encoder_k_function()\n",
        "    # contrastive loss\n",
        "    pos_pairs_loss=cosine_loss(z_k,z_q)\n",
        "    neg_pairs_loss=0\n",
        "    for i in range(input_batch.shape[0]):\n",
        "        neg=tf.concat((z_k[:i],z_k[i+1:]),axis=0) #neg pairs\n",
        "        anchor=tf.repeat(tf.expand_dims(z_q[i],axis=0), repeats=neg.shape[0], axis=0)\n",
        "        neg_pairs_loss+=-cosine_loss(neg,anchor)\n",
        "    contrastive_loss=pos_pairs_loss+neg_pairs_loss\n",
        "    print('contrastive_loss : ',contrastive_loss)\n",
        "    print('dqn_loss : ',dqn_loss)\n",
        "    return dqn_loss + contrastive_loss\n"
      ],
      "metadata": {
        "id": "d5ID6EUsL66E"
      },
      "execution_count": null,
      "outputs": []
    },
    {
      "cell_type": "markdown",
      "source": [
        "3. Build the policy "
      ],
      "metadata": {
        "id": "s2VqTHcrzhBG"
      }
    },
    {
      "cell_type": "code",
      "source": [
        "from ray.rllib.policy.tf_policy_template import build_tf_policy\n",
        "from ray.rllib.algorithms.dqn.dqn_tf_policy import DQNTFPolicy\n",
        "\n",
        "CustomPolicy = DQNTFPolicy.with_updates(\n",
        "    name=\"CustomDQNPolicy\",\n",
        "    loss_fn=custom_loss)"
      ],
      "metadata": {
        "id": "XCQs2amfIwM_"
      },
      "execution_count": null,
      "outputs": []
    },
    {
      "cell_type": "markdown",
      "source": [
        "3. We just created our loss. However, we need to call the exponential moving average of the encoder k in the direction of the encoder q : ema_update()\n",
        "\n",
        "One way to do that is the create your own algorithm and overide the training step method so that after the gradient step we realize the ema. \n",
        "\n",
        "Below is the Curl algorithm that inherite from DQN (rainbow with specific parameters in RLlib)."
      ],
      "metadata": {
        "id": "-yKXCBB1FWuM"
      }
    },
    {
      "cell_type": "code",
      "source": [
        "\n",
        "import logging\n",
        "from typing import List, Optional, Type, Callable\n",
        "import numpy as np\n",
        "\n",
        "from ray.rllib.algorithms.algorithm_config import AlgorithmConfig, NotProvided\n",
        "from ray.rllib.algorithms.dqn.dqn_tf_policy import DQNTFPolicy\n",
        "from ray.rllib.algorithms.dqn.dqn_torch_policy import DQNTorchPolicy\n",
        "from ray.rllib.algorithms.simple_q.simple_q import (\n",
        "    SimpleQ,\n",
        "    SimpleQConfig,\n",
        ")\n",
        "from ray.rllib.execution.rollout_ops import (\n",
        "    synchronous_parallel_sample,\n",
        ")\n",
        "from ray.rllib.policy.sample_batch import MultiAgentBatch\n",
        "from ray.rllib.execution.train_ops import (\n",
        "    train_one_step,\n",
        "    multi_gpu_train_one_step,\n",
        ")\n",
        "from ray.rllib.policy.policy import Policy\n",
        "from ray.rllib.utils.annotations import override\n",
        "from ray.rllib.utils.replay_buffers.utils import update_priorities_in_replay_buffer\n",
        "from ray.rllib.utils.typing import ResultDict\n",
        "from ray.rllib.utils.metrics import (\n",
        "    NUM_ENV_STEPS_SAMPLED,\n",
        "    NUM_AGENT_STEPS_SAMPLED,\n",
        ")\n",
        "from ray.rllib.utils.deprecation import (\n",
        "    Deprecated,\n",
        ")\n",
        "from ray.rllib.utils.metrics import SYNCH_WORKER_WEIGHTS_TIMER\n",
        "from ray.rllib.execution.common import (\n",
        "    LAST_TARGET_UPDATE_TS,\n",
        "    NUM_TARGET_UPDATES,\n",
        ")\n",
        "from ray.rllib.utils.deprecation import DEPRECATED_VALUE\n",
        "from ray.rllib.utils.replay_buffers.utils import sample_min_n_steps_from_buffer\n",
        "from ray.rllib.algorithms.dqn import DQN\n",
        "\n",
        "def calculate_rr_weights(config: AlgorithmConfig) -> List[float]:\n",
        "    \"\"\"Calculate the round robin weights for the rollout and train steps\"\"\"\n",
        "    if not config[\"training_intensity\"]:\n",
        "        return [1, 1]\n",
        "\n",
        "    # Calculate the \"native ratio\" as:\n",
        "    # [train-batch-size] / [size of env-rolled-out sampled data]\n",
        "    # This is to set freshly rollout-collected data in relation to\n",
        "    # the data we pull from the replay buffer (which also contains old\n",
        "    # samples).\n",
        "    native_ratio = config[\"train_batch_size\"] / (\n",
        "        config.get_rollout_fragment_length()\n",
        "        * config[\"num_envs_per_worker\"]\n",
        "        # Add one to workers because the local\n",
        "        # worker usually collects experiences as well, and we avoid division by zero.\n",
        "        * max(config[\"num_workers\"] + 1, 1)\n",
        "    )\n",
        "\n",
        "    # Training intensity is specified in terms of\n",
        "    # (steps_replayed / steps_sampled), so adjust for the native ratio.\n",
        "    sample_and_train_weight = config[\"training_intensity\"] / native_ratio\n",
        "    if sample_and_train_weight < 1:\n",
        "        return [int(np.round(1 / sample_and_train_weight)), 1]\n",
        "    else:\n",
        "        return [1, int(np.round(sample_and_train_weight))]\n",
        "\n",
        "class Curl(DQN):\n",
        "    def __init__(self, config):\n",
        "        super(DQN, self).__init__(config)\n",
        "    @override(DQN)\n",
        "    def training_step(self) -> ResultDict:\n",
        "        \"\"\"DQN training iteration function.\n",
        "        Each training iteration, we:\n",
        "        - Sample (MultiAgentBatch) from workers.\n",
        "        - Store new samples in replay buffer.\n",
        "        - Sample training batch (MultiAgentBatch) from replay buffer.\n",
        "        - Learn on training batch.\n",
        "        - Update remote workers' new policy weights.\n",
        "        - Update target network every `target_network_update_freq` sample steps.\n",
        "        - Return all collected metrics for the iteration.\n",
        "        Returns:\n",
        "            The results dict from executing the training iteration.\n",
        "        \"\"\"\n",
        "        train_results = {}\n",
        "\n",
        "        # We alternate between storing new samples and sampling and training\n",
        "        store_weight, sample_and_train_weight = calculate_rr_weights(self.config)\n",
        "\n",
        "        for _ in range(store_weight):\n",
        "            # Sample (MultiAgentBatch) from workers.\n",
        "            new_sample_batch = synchronous_parallel_sample(\n",
        "                worker_set=self.workers, concat=True\n",
        "            )\n",
        "\n",
        "            # Update counters\n",
        "            self._counters[NUM_AGENT_STEPS_SAMPLED] += new_sample_batch.agent_steps()\n",
        "            self._counters[NUM_ENV_STEPS_SAMPLED] += new_sample_batch.env_steps()\n",
        "\n",
        "            # Store new samples in replay buffer.\n",
        "            self.local_replay_buffer.add(new_sample_batch)\n",
        "\n",
        "        global_vars = {\n",
        "            \"timestep\": self._counters[NUM_ENV_STEPS_SAMPLED],\n",
        "        }\n",
        "\n",
        "        # Update target network every `target_network_update_freq` sample steps.\n",
        "        cur_ts = self._counters[\n",
        "            NUM_AGENT_STEPS_SAMPLED\n",
        "            if self.config.count_steps_by == \"agent_steps\"\n",
        "            else NUM_ENV_STEPS_SAMPLED\n",
        "        ]\n",
        "        if cur_ts > self.config.num_steps_sampled_before_learning_starts:\n",
        "            for _ in range(sample_and_train_weight):\n",
        "                # Sample training batch (MultiAgentBatch) from replay buffer.\n",
        "                train_batch = sample_min_n_steps_from_buffer(\n",
        "                    self.local_replay_buffer,\n",
        "                    self.config.train_batch_size,\n",
        "                    count_by_agent_steps=self.config.count_steps_by == \"agent_steps\",\n",
        "                )\n",
        "\n",
        "                # Postprocess batch before we learn on it\n",
        "                post_fn = self.config.get(\"before_learn_on_batch\") or (lambda b, *a: b)\n",
        "                train_batch = post_fn(train_batch, self.workers, self.config)\n",
        "\n",
        "                # for policy_id, sample_batch in train_batch.policy_batches.items():\n",
        "                #     print(len(sample_batch[\"obs\"]))\n",
        "                #     print(sample_batch.count)\n",
        "\n",
        "                # Learn on training batch.\n",
        "                # Use simple optimizer (only for multi-agent or tf-eager; all other\n",
        "                # cases should use the multi-GPU optimizer, even if only using 1 GPU)\n",
        "                if self.config.get(\"simple_optimizer\") is True:\n",
        "                    train_results = train_one_step(self, train_batch)\n",
        "                else:\n",
        "                    train_results = multi_gpu_train_one_step(self, train_batch)\n",
        "\n",
        "                # Update replay buffer priorities.\n",
        "                update_priorities_in_replay_buffer(\n",
        "                    self.local_replay_buffer,\n",
        "                    self.config,\n",
        "                    train_batch,\n",
        "                    train_results,\n",
        "                )\n",
        "                #*****************************************custom update*****************************************\n",
        "                for pid in self.workers.local_worker().policy_map.keys():\n",
        "                    self.workers.local_worker().policy_map[pid].model.ema_update()\n",
        "\n",
        "                last_update = self._counters[LAST_TARGET_UPDATE_TS]\n",
        "                if cur_ts - last_update >= self.config.target_network_update_freq:\n",
        "                    to_update = self.workers.local_worker().get_policies_to_train()\n",
        "                    self.workers.local_worker().foreach_policy_to_train(\n",
        "                        lambda p, pid: pid in to_update and p.update_target()\n",
        "                    )\n",
        "                    self._counters[NUM_TARGET_UPDATES] += 1\n",
        "                    self._counters[LAST_TARGET_UPDATE_TS] = cur_ts\n",
        "                # print(\"Worker dict : \",self.workers.local_worker().policy_dict())\n",
        "                # Update weights and global_vars - after learning on the local worker -\n",
        "                # on all remote workers.\n",
        "                with self._timers[SYNCH_WORKER_WEIGHTS_TIMER]:\n",
        "                    self.workers.sync_weights(global_vars=global_vars)\n",
        "\n",
        "        # Return all collected metrics for the iteration.\n",
        "        return train_results\n",
        "\n",
        "    def get_default_policy_class(self, config):\n",
        "        return CustomPolicy\n",
        "\n",
        "    "
      ],
      "metadata": {
        "id": "v1GCK-mwFVAk"
      },
      "execution_count": null,
      "outputs": []
    },
    {
      "cell_type": "markdown",
      "source": [
        "Train"
      ],
      "metadata": {
        "id": "6UXiTqsZHtsw"
      }
    },
    {
      "cell_type": "code",
      "source": [
        "import ray \n",
        "from ray_course.custom_callbacks import CustomCallbacks\n",
        "import wandb\n",
        "from datetime import datetime\n",
        "\n",
        "ray.shutdown()\n",
        "ray.init() #re-init\n",
        "CONFIG = {\n",
        "    #COMON config\n",
        "\t\t\"env\": CustomEnv,\n",
        "\t\t# \"env_config\": ENV_CONFIG,\n",
        "\t\t\"num_gpus\": 0,\n",
        "\t\t\"num_workers\": 1, # int(ressources['CPU'])\n",
        "        \"gamma\": 0.95,\n",
        "\t\t\"explore\": True,\n",
        "\t\t\"exploration_config\": {\n",
        "\t\t\t\"type\": \"StochasticSampling\",\n",
        "\t\t},\n",
        "        \"framework\": \"tf2\", #I prefer tensorflow but feel free to use pytorch\n",
        "        # \"callbacks\": CustomCallbacks,\n",
        "        # rainbow config\n",
        "        'env_config':{},  # deterministic\n",
        "        'gamma': 0.99,\n",
        "        'lr': .0001,\n",
        "        'replay_buffer_config':\n",
        "            {'type': 'MultiAgentPrioritizedReplayBuffer',\n",
        "            'capacity': 50000},\n",
        "        'num_steps_sampled_before_learning_starts': 500, #10000\n",
        "        'rollout_fragment_length': 4,\n",
        "        'train_batch_size' : 32,\n",
        "        'exploration_config' :\n",
        "            {'epsilon_timesteps': 200000,\n",
        "            'final_epsilon': .01},\n",
        "        'model':\n",
        "            {'custom_model': AtariModel,\n",
        "            'grayscale': True,\n",
        "            'zero_mean': False,\n",
        "            'dim': 42},\n",
        "        # we should set compress_observations to True because few machines\n",
        "        # would be able to contain the replay buffers in memory otherwise\n",
        "        'compress_observations' : True,\n",
        "            }\n",
        "algo = Curl(config=CONFIG)\n",
        "# now = datetime.now()\n",
        "# name = now.strftime(\"_%m_%d_%Y_%H_%M_%S\")\n",
        "# wandb.run.name='rainbow_custom_model'+name\n",
        "for k in range(2):\n",
        "\tresult=algo.train()\n",
        "\tprint('epoch : ',k)\n",
        "    # print(pretty_print(result))\n",
        " \n",
        "checkpoint_dir = algo.save() #save the model \n",
        "print(f\"Checkpoint saved in directory {checkpoint_dir}\") \n",
        "ray.shutdown()"
      ],
      "metadata": {
        "id": "lrKPTS9AHvrK"
      },
      "execution_count": null,
      "outputs": []
    },
    {
      "cell_type": "markdown",
      "source": [
        "Questions :\n",
        "\n",
        "There is an hyper-parameter really important in order for curl to work, can you guess which one it is ? (size of the replay buffer)\n",
        "\n",
        "In the algorithm that we implemented we didn't use exaclty the same structure, can you find what's the difference ? \n",
        "\n",
        "\n",
        "Since Curl there has been new approaches, BYOL"
      ],
      "metadata": {
        "id": "OUEbk8MIepXT"
      }
    }
  ]
}